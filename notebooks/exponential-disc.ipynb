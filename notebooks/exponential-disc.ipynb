{
 "cells": [
  {
   "cell_type": "markdown",
   "id": "34420008-c939-4ed2-ba09-56675489f4bd",
   "metadata": {},
   "source": [
    "# Exponential Thick Disc"
   ]
  },
  {
   "cell_type": "markdown",
   "id": "431b7191-97c0-4828-abc7-e7cdf8b85ab1",
   "metadata": {},
   "source": [
    "Density profile : \n",
    "\n",
    "\n",
    "\\begin{equation}\n",
    "\\label{eq:df_disc}\n",
    "\\rho(R, z) = \\rho_{d, 0} \\rho_R (R) \\rho_z (z)\n",
    "\\end{equation}\n",
    "\n",
    "where \n",
    "\n",
    "$$ \\rho_R (R) = e^{\\alpha R}$$\n",
    "\n",
    "and $$ \\rho_z (z) = \\cosh^{-2}{\\left(\\frac{\\beta z}{2} \\right)}$$"
   ]
  },
  {
   "cell_type": "markdown",
   "id": "7dc237f6-b12c-4ee3-b2e6-ac2d84ffa246",
   "metadata": {},
   "source": [
    "Result is : \n",
    "\n",
    "\\begin{equation}\n",
    "\\label{eq:sol_disc}\n",
    "\\Phi(R, z) = - 2\\pi G \\alpha \\rho_{d, 0} \\int_{0}^{\\infty} dk J_0 (kR) \\dfrac{I_z (k)}{(\\alpha^2 + k^2)^{\\frac{3}{2}}}\n",
    "\\end{equation}"
   ]
  },
  {
   "cell_type": "markdown",
   "id": "3bda4623-49f0-4bb7-b085-e4f42d1230f4",
   "metadata": {},
   "source": [
    "where \n",
    "$$\n",
    "\\begin{equation}\n",
    "\\label{eq:integral}\n",
    "I_z(k) = \\dfrac{4}{\\beta} \\left\\{ 1 - \\dfrac{k}{k+\\beta} \\left[ e^{-z\\beta} {}_2F_1\\left(1, 1 + \\frac{k}{\\beta}; 2 + \\frac{k}{\\beta}; -e^{-z\\beta} \\right) + e^{z\\beta} {}_2F_1\\left(1, 1 + \\frac{k}{\\beta}; 2 + \\frac{k}{\\beta}; -e^{z\\beta} \\right)\\right] \\right\\}\n",
    "\\end{equation}\n",
    "$$"
   ]
  },
  {
   "cell_type": "markdown",
   "id": "eea7f536-3578-4555-9c64-7a314e29bbe9",
   "metadata": {},
   "source": [
    "where $_2F_1$ is the Gaussian hypergeometric function, such that :\n",
    "\n",
    "$$ _2F_1(a, b, c; z) = \\sum_{n=0}^{\\infty} \\frac{(a)_n (b)_n}{(c)_n}\\cdot \\dfrac{z^n}{n!}$$ \n",
    "\n",
    "where $(a)_n$ is the Pochhammer symbol and $|z| < 1$.\n",
    "\n",
    "This special function is implemented in scipy : https://docs.scipy.org/doc/scipy/reference/generated/scipy.special.hyp2f1.html"
   ]
  },
  {
   "cell_type": "markdown",
   "id": "cd59b4ea-0c71-4ba5-9637-fe20adbd5f08",
   "metadata": {},
   "source": [
    "**Note:**\n",
    "\n",
    "I try here to simplify the Poisson equation the real space :\n",
    " \n",
    "$$ \\nabla^2 \\Phi (R, z) = 4\\pi G \\rho_0 e^{\\frac{-R}{R_d}} \\cosh^{-2}{\\frac{z}{z_d}}$$\n",
    "\n",
    "which in cylindrical coordinates, with independence on the $\\theta$ component reduces to:\n",
    "\n",
    "$$ \\dfrac{1}{R} \\dfrac{\\partial}{\\partial R} \\left( R \\dfrac{\\partial \\Phi}{\\partial R}\\right) + \\dfrac{\\partial^2 \\Phi}{\\partial z^2} = 4\\pi G \\rho_0 e^{\\frac{-R}{R_d}} \\cosh^{-2}{\\frac{z}{z_d}}$$\n",
    "\n",
    "setting $z' = \\dfrac{z}{z_d}$ and $R' = \\dfrac{R}{R_d}$ , we can write simplify the equation in the following form :\n",
    "\n",
    "$$ \\dfrac{1}{R_{d}^{2}} \\dfrac{1}{R'} \\dfrac{\\partial}{\\partial R'} \\left(R' \\dfrac{\\partial \\Phi}{\\partial R'}\\right) + \\dfrac{1}{z_{d}^{2}}\\dfrac{\\partial^2 \\Phi}{\\partial z'^2} = 4\\pi G \\rho_0 e^{-R'} \\cosh^{-2}{z'}$$\n",
    "\n",
    "Now, since $M_d = \\rho_0 R_d \\int_{0}^{2\\pi} d\\theta \\int_{0}^{z_d} dz \\int_{0}^{R_d} dr = 2\\pi \\rho_0 R_d^2 z_d$\n",
    "\n",
    "We get :\n",
    "$$ \\dfrac{1}{R_{d}^{2}} \\dfrac{1}{R'} \\dfrac{\\partial}{\\partial R'} \\left(R' \\dfrac{\\partial \\Phi}{\\partial R'}\\right) + \\dfrac{1}{z_{d}^{2}}\\dfrac{\\partial^2 \\Phi}{\\partial z'^2} = \\frac{G M_d}{R_d^2 z_d}  e^{-R'} \\cosh^{-2}{z'}$$\n",
    "\n",
    "If we define $\\phi'= \\frac{\\phi}{G M_d/z_d}$\n",
    "\n",
    "$$ \\dfrac{1}{R'} \\dfrac{\\partial}{\\partial R'} \\left(R' \\dfrac{\\partial \\Phi'}{\\partial R'}\\right) + \\dfrac{R_d^2}{z_{d}^{2}}\\dfrac{\\partial^2 \\Phi'}{\\partial z'^2} = e^{-R'} \\cosh^{-2}{z'}$$\n",
    "\n",
    "Usually one defines $\\eta = \\frac{z_d}{R_d} $\n",
    "\n",
    "$$ \\dfrac{1}{R'} \\dfrac{\\partial}{\\partial R'} \\left(R' \\dfrac{\\partial \\Phi'}{\\partial R'}\\right) + \\dfrac{1}{\\eta^{2}}\\dfrac{\\partial^2 \\Phi'}{\\partial z'^2} = e^{-R'} \\cosh^{-2}{z'}$$\n",
    "\n",
    "Now the neural network should be function of 3 variables: $R'$, $z'$ and $\\eta$.\n",
    "Physically motivated values of $\\eta$ can be around $0.1$ - $0.2$."
   ]
  },
  {
   "cell_type": "code",
   "execution_count": null,
   "id": "38182663-a786-49fc-81b8-2388da1e69b2",
   "metadata": {},
   "outputs": [],
   "source": [
    "import numpy as np\n",
    "import matplotlib.pyplot as plt\n",
    "import scipy.integrate as itg\n",
    "from scipy.special import hyp2f1, jv"
   ]
  },
  {
   "cell_type": "markdown",
   "id": "cf8530ec-e52a-4054-8c27-e84f14edd469",
   "metadata": {},
   "source": [
    "See [here](#Corrected-version) for the corrected version."
   ]
  },
  {
   "cell_type": "markdown",
   "id": "32546042-2d59-4f33-a0c0-8806ba1e3e97",
   "metadata": {},
   "source": [
    "$R_d$ in the range $[2, 6]$ is ok\n",
    "\n",
    "$z_d$, for now, we will set it in order to have $\\dfrac{z_d}{R_d}=0.2$\n",
    "\n",
    "The domain where to solve the equations can be between $\\dfrac{R}{R_d} = [0;20]$  and $\\dfrac{z}{z_d} = [0;5]$\n",
    "\n",
    "We should also investigate where and when is possible to solve the equation via approximations.\n",
    "\n",
    "To compare our results, we set here :\n",
    "- $R_d = 4$  \n",
    "- $\\dfrac{z_d}{R_d}=0.2$  \n",
    "- $M_d = 10^{10.5}$   "
   ]
  },
  {
   "cell_type": "code",
   "execution_count": null,
   "id": "1c7ddf67-96ef-47b9-a722-ba65f9ea2084",
   "metadata": {},
   "outputs": [],
   "source": [
    "Rd = 4\n",
    "zd = 0.2 * Rd\n",
    "alpha = 1 / Rd\n",
    "beta = 2 / zd"
   ]
  },
  {
   "cell_type": "code",
   "execution_count": null,
   "id": "106108c7-43e5-4080-a1e7-6173d169c9c4",
   "metadata": {},
   "outputs": [],
   "source": [
    "def potential_integral(k, R, z, alpha, beta):\n",
    "    return jv(0, k * R) * Iz(z, k, b=beta) / (alpha**2 + k**2)**1.5"
   ]
  },
  {
   "cell_type": "code",
   "execution_count": null,
   "id": "3bafd670-b31a-4478-aab3-4bcc4d87b135",
   "metadata": {},
   "outputs": [],
   "source": [
    "def Iz(z, k, b):\n",
    "    factor = k / (k + b)\n",
    "    first_part = np.exp(-z * b) * hyp2f1(1, 1 + k / b, 2 + k / b, -np.exp(-z * b))\n",
    "    second_part = np.exp(z * b) * hyp2f1(1, 1 + k / b, 2 + k / b, -np.exp(z * b))\n",
    "    \n",
    "    return (4 / b) * (1 - factor * (first_part + second_part))"
   ]
  },
  {
   "cell_type": "markdown",
   "id": "b3cc75c5-fc7b-4a49-9611-997be2eeaddc",
   "metadata": {},
   "source": [
    "We can integrate over a domain $R \\times z$ using the `quad_vec` function : "
   ]
  },
  {
   "cell_type": "code",
   "execution_count": null,
   "id": "28f72e07-b7be-47ce-bbf9-e0ab23b32817",
   "metadata": {},
   "outputs": [],
   "source": [
    "Rtab = np.linspace(0, 20, 100) * Rd\n",
    "ztab = np.linspace(0, 5, 100) * zd\n",
    "\n",
    "Rv, zv = np.meshgrid(Rtab, ztab)"
   ]
  },
  {
   "cell_type": "code",
   "execution_count": null,
   "id": "668f704a-6535-4e6c-9dda-3b91ce48c5b3",
   "metadata": {},
   "outputs": [],
   "source": [
    "vec_sol = itg.quad_vec(potential_integral, a=0, b=100, args=(Rv, zv, alpha, beta))"
   ]
  },
  {
   "cell_type": "code",
   "execution_count": null,
   "id": "e3be094f-7360-4b38-81be-a4a135467470",
   "metadata": {},
   "outputs": [],
   "source": [
    "plt.figure()\n",
    "plt.pcolormesh(Rv, zv, vec_sol[0])\n",
    "plt.xlabel(\"$R$\")\n",
    "plt.ylabel(\"$z$\")\n",
    "plt.colorbar(label=\"$\\Phi(R, z)$\");"
   ]
  },
  {
   "cell_type": "markdown",
   "id": "7b762ab8-d406-47ff-8297-b048985db955",
   "metadata": {},
   "source": [
    "We want to test with the data available. First column is $R$, second column is $z$ and the third column is the gravitational potential. "
   ]
  },
  {
   "cell_type": "code",
   "execution_count": null,
   "id": "5fea94e8-55c3-4e58-8ca3-403f31ab2c98",
   "metadata": {},
   "outputs": [],
   "source": [
    "data = np.loadtxt(\"test_phi_grid.dat\")\n",
    "R_test, z_test, phi_test = data.T\n",
    "\n",
    "R_test = R_test.reshape(250, 250)\n",
    "z_test = z_test.reshape(250, 250)\n",
    "phi_test = phi_test.reshape(250, 250)"
   ]
  },
  {
   "cell_type": "code",
   "execution_count": null,
   "id": "83e1cc65-e214-4a0c-a901-07c705508b81",
   "metadata": {},
   "outputs": [],
   "source": [
    "plt.figure()\n",
    "plt.title('Pre-computed Potential')\n",
    "plt.pcolormesh(R_test, z_test, phi_test)\n",
    "plt.xlabel(\"$R$\")\n",
    "plt.ylabel(\"$z$\")\n",
    "plt.colorbar(label=\"$\\Phi(R, z)$\");"
   ]
  },
  {
   "cell_type": "code",
   "execution_count": null,
   "id": "6009d178-41be-4e90-a664-bfa1d106dd5e",
   "metadata": {},
   "outputs": [],
   "source": [
    "%%time\n",
    "phi = itg.quad_vec(potential_integral, a=0, b=200, args=(R_test, z_test, alpha, beta))"
   ]
  },
  {
   "cell_type": "code",
   "execution_count": null,
   "id": "a88d6b6c-4e36-4cdf-a8fd-35e083a639c8",
   "metadata": {},
   "outputs": [],
   "source": [
    "print(f\"Resultat: {0.00088:%}\")"
   ]
  },
  {
   "cell_type": "code",
   "execution_count": null,
   "id": "d7b0e574-7b74-474f-b4aa-bbc047b9f0fd",
   "metadata": {},
   "outputs": [],
   "source": [
    "Md = 10**(10.5)\n",
    "G = 1 # 6.674 * 10 ** (-11)"
   ]
  },
  {
   "cell_type": "code",
   "execution_count": null,
   "id": "7eba58a7-af61-418f-ad8b-ed9008efa5d4",
   "metadata": {},
   "outputs": [],
   "source": [
    "phi_ = - (G * Md)/(2 * zd * Rd**3) * phi[0]"
   ]
  },
  {
   "cell_type": "code",
   "execution_count": null,
   "id": "f026d44f-c4ff-4de6-adc8-d53d5bc82ec6",
   "metadata": {},
   "outputs": [],
   "source": [
    "plt.figure()\n",
    "plt.title('Potential computed with my code')\n",
    "plt.pcolormesh(R_test, z_test, phi_)\n",
    "plt.xlabel(\"$R$\")\n",
    "plt.ylabel(\"$z$\")\n",
    "plt.colorbar(label=\"$\\Phi(R, z)$\");"
   ]
  },
  {
   "cell_type": "code",
   "execution_count": null,
   "id": "3f114d9c-bfb5-4b27-9681-11d6afc411ae",
   "metadata": {},
   "outputs": [],
   "source": [
    "plt.figure()\n",
    "plt.title(\"Relative Error\")\n",
    "plt.pcolormesh(R_test, z_test, np.abs(phi_test - phi_)/phi_)\n",
    "plt.xlabel(\"$R$\")\n",
    "plt.ylabel(\"$z$\")\n",
    "plt.colorbar(label=\"$\\dfrac{\\Delta \\Phi(R, z)}{\\Phi(R, z)}$\");"
   ]
  },
  {
   "cell_type": "code",
   "execution_count": null,
   "id": "cca7d4a0-68d9-4596-b2fa-5de29174c892",
   "metadata": {},
   "outputs": [],
   "source": [
    "diff = np.abs(phi_test.flatten() - phi_.flatten())\n",
    "plt.plot(diff[250:]);"
   ]
  },
  {
   "cell_type": "code",
   "execution_count": null,
   "id": "0fd1d151-3ab6-4cfb-9e78-50a860a0804d",
   "metadata": {},
   "outputs": [],
   "source": [
    "diff = np.abs(phi_test.flatten() - phi_.flatten())\n",
    "plt.plot(diff[:250]);"
   ]
  },
  {
   "cell_type": "code",
   "execution_count": null,
   "id": "77436f5a-0030-4d86-befc-6f2a633a0f62",
   "metadata": {},
   "outputs": [],
   "source": [
    "diff = np.abs((phi_test - phi_)/phi_).flatten()\n",
    "plt.plot(diff[:250]);"
   ]
  },
  {
   "cell_type": "code",
   "execution_count": null,
   "id": "73429f55-9648-4f5f-b78f-fe58aa227dd9",
   "metadata": {},
   "outputs": [],
   "source": [
    "plt.plot(diff)\n",
    "plt.yscale('log');"
   ]
  },
  {
   "cell_type": "code",
   "execution_count": null,
   "id": "66119cb9-21d0-40be-8b40-7597ef2a782e",
   "metadata": {},
   "outputs": [],
   "source": [
    "counts, bins = np.histogram(np.abs(phi_test.flatten() - phi_.flatten()))\n",
    "plt.bar(bins[:-1], counts, width=(bins[1]-bins[0]), log=True)\n",
    "plt.xlabel(\"Absolute Error\")\n",
    "plt.ylabel(\"Count\");"
   ]
  },
  {
   "cell_type": "code",
   "execution_count": null,
   "id": "2c2de9a8-f597-4d05-aca6-66580f55bba0",
   "metadata": {},
   "outputs": [],
   "source": [
    "counts, bins = np.histogram(np.abs((phi_test - phi_)/phi_).flatten())\n",
    "plt.bar(bins[:-1], counts, width=(bins[1]-bins[0]), log=True)\n",
    "plt.xlabel(\"Relative Error\")\n",
    "plt.ylabel(\"Count\");"
   ]
  },
  {
   "cell_type": "markdown",
   "id": "0e106763-4ae2-4eb3-9d41-bd424d9d6c38",
   "metadata": {},
   "source": [
    "We wish to split the integration domain in two; $[0;\\infty]$    becomes $[0,1] + [1,\\infty]$\n",
    "\n",
    "Then in the range $[1,\\infty]$ we make a change of variable $x = \\dfrac{1}{k}$ and try now to integrate that part between $1$ and $0$. \n",
    "\n",
    "We also want the following plots:\n",
    "\n",
    "- 2D map of the relative error  \n",
    "- histogram of the absolute and relative errors  \n",
    "- zoom into the region of small radii (where the 2 solutions start to disagree?)"
   ]
  },
  {
   "cell_type": "markdown",
   "id": "4fae79a5-77db-496e-9774-869953426ea1",
   "metadata": {},
   "source": [
    "### Correction for larger values of $k$\n",
    "\n",
    "It appears that we cannot integrate for values larger $k=\\approx 250$ because of the part $${}_2F_1\\left(1, 1 + \\frac{k}{\\beta}; 2 + \\frac{k}{\\beta}; -e^{z\\beta} \\right)$$\n",
    "\n",
    "Indeed, the ${}_2F_1$ function is definded only for $|z| < 1$, but the factor $-e^{z'\\beta}$ does not satisfy this condition. For small values of $k$ the fraction in the function stays balanced and returns small values, but for large $k$ the returned numbers get too small and `nan` values are returned.  We therefore need to find a way to extend the function for $|z| > 1$. Following https://arxiv.org/pdf/2010.08555.pdf we use :\n",
    "\n",
    "$$\\sum_{n=0}^{\\infty} z^n + \\sum_{n=0}^{\\infty} z^n \\sum_{l=1}^{\\infty}(-1)^l \\dfrac{n(1+n)^{l-1}}{y^l}$$\n",
    "\n",
    "valid for $y \\rightarrow +\\infty$."
   ]
  },
  {
   "cell_type": "code",
   "execution_count": null,
   "id": "0f8e2a7b-352a-4335-a889-44da7ec77ee7",
   "metadata": {},
   "outputs": [],
   "source": [
    "k = np.linspace(0, 1000, 100)\n",
    "b = beta\n",
    "z = np.linspace(0, 4, 100)\n",
    "\n",
    "Md = 10**(10.5)\n",
    "G = 1 # 6.674 * 10 ** (-11)"
   ]
  },
  {
   "cell_type": "code",
   "execution_count": null,
   "id": "f8fb196f-c457-4b92-8ca4-f2805dcc16a0",
   "metadata": {},
   "outputs": [],
   "source": [
    "def approx_2F1(y, z, boundary=100_000):\n",
    "    ntab = np.arange(0, boundary, 1).reshape(-1, 1)\n",
    "    ltab = np.arange(1, boundary, 1).reshape(-1, 1)\n",
    "    z = np.repeat(z.reshape(-1, 1), boundary, axis=1)\n",
    "    z_sum = np.sum(z**ntab, axis=1)\n",
    "    "
   ]
  },
  {
   "cell_type": "code",
   "execution_count": null,
   "id": "97e93ab9-a8e2-4eba-95ff-09443fe6cde0",
   "metadata": {},
   "outputs": [],
   "source": [
    "import numpy as np\n",
    "\n",
    "def compute_sum(z, y, max_iter=100):\n",
    "    \"\"\"\n",
    "    Compute the sum defined by the formula:\n",
    "    sum_n=0^inf z^n + sum_n=0^inf z^n sum_l=1^inf (-1)^l * n * (1 + n)^(l - 1) / y^l\n",
    "\n",
    "    :param z: numpy array, input values for the sum\n",
    "    :param y: float, input value for the denominator of the second sum\n",
    "    :param max_iter: int, maximum number of iterations for the second sum\n",
    "    :return: numpy array, result of the sum for each input value in z\n",
    "    \"\"\"\n",
    "    ntab = np.arange(0, max_iter, 1)\n",
    "    z_sum1 = np.sum(z**ntab, axis=1)\n",
    "    \n",
    "    ntab = ntab.reshape((1, -1))\n",
    "    ltab = np.arange(1, max_iter).reshape((1, -1))\n",
    "    z = z.reshape((-1, 1))\n",
    "    y = y.reshape((-1, 1))\n",
    "    \n",
    "    z_sum2 = np.sum((-1)**ltab * ntab * (1 + ntab)**(ltab - 1) / y**ltab * z**ntab.reshape((-1, 1)), axis=1)\n",
    "    \n",
    "    return z_sum1 + z_sum2"
   ]
  },
  {
   "cell_type": "code",
   "execution_count": null,
   "id": "42fc2710-2679-4ae9-8dc5-d4771e5c36c3",
   "metadata": {},
   "outputs": [],
   "source": [
    "compute_sum(-np.exp(z * b), k)"
   ]
  },
  {
   "cell_type": "code",
   "execution_count": null,
   "id": "446f4928-9673-4820-bf5f-d0e63d2857da",
   "metadata": {},
   "outputs": [],
   "source": [
    "import mpmath"
   ]
  },
  {
   "cell_type": "code",
   "execution_count": null,
   "id": "77bbc3da-d21e-4da3-86ca-add44b7897d6",
   "metadata": {},
   "outputs": [],
   "source": [
    "%%timeit\n",
    "hyp2f1(1, 1 + k / b, 2 + k / b, -np.exp(z * b))"
   ]
  },
  {
   "cell_type": "code",
   "execution_count": null,
   "id": "f4499285-7c00-4d46-b694-fc13a9ea28c2",
   "metadata": {},
   "outputs": [],
   "source": [
    "%%timeit\n",
    "mp_func = np.frompyfunc(mpmath.hyp2f1, 4, 1)\n",
    "mp_func(1, 1 + k / b, 2 + k / b, -np.exp(z * b))"
   ]
  },
  {
   "cell_type": "code",
   "execution_count": null,
   "id": "680dd74c-d771-4f7a-b949-d7734d6237d6",
   "metadata": {},
   "outputs": [],
   "source": [
    "%%timeit\n",
    "mp_func = np.vectorize(mpmath.hyp2f1)\n",
    "mp_func(1, 1 + k / b, 2 + k / b, -np.exp(z * b))"
   ]
  },
  {
   "cell_type": "code",
   "execution_count": null,
   "id": "da935d3d-d622-4e2d-bc6e-16c6d1c051f2",
   "metadata": {},
   "outputs": [],
   "source": [
    "mp_func = np.vectorize(mpmath.hyp2f1)"
   ]
  },
  {
   "cell_type": "code",
   "execution_count": null,
   "id": "81ea118d-1321-45ed-a790-03b941a5250c",
   "metadata": {},
   "outputs": [],
   "source": [
    "%%timeit\n",
    "mp_func(1, 1 + k / b, 2 + k / b, -np.exp(z * b))"
   ]
  },
  {
   "cell_type": "code",
   "execution_count": null,
   "id": "c60796e6-73d8-44b9-a88b-754a887bb5ad",
   "metadata": {},
   "outputs": [],
   "source": [
    "mp_func = np.frompyfunc(mpmath.hyp2f1, 4, 1)"
   ]
  },
  {
   "cell_type": "code",
   "execution_count": null,
   "id": "6a7e6ba2-e1f8-483c-9ed2-8c2e66217a25",
   "metadata": {
    "tags": []
   },
   "outputs": [],
   "source": [
    "%%timeit\n",
    "mp_func(1, 1 + k / b, 2 + k / b, -np.exp(z * b))"
   ]
  },
  {
   "cell_type": "markdown",
   "id": "69bca266-4a61-484e-8faf-3cf81f1a8a0c",
   "metadata": {},
   "source": [
    "## Corrected version\n",
    "\n",
    "Therefore we wish to rewrite the code using `mpmath` where needed:"
   ]
  },
  {
   "cell_type": "code",
   "execution_count": null,
   "id": "1c7d1b4e-2e91-4dbf-9fc6-8bf2ff52a53f",
   "metadata": {},
   "outputs": [],
   "source": [
    "import mpmath"
   ]
  },
  {
   "cell_type": "code",
   "execution_count": null,
   "id": "4b908c41-03f1-4edb-ad2e-dc336a59ea1f",
   "metadata": {},
   "outputs": [],
   "source": [
    "Rd = 4\n",
    "zd = 0.2 * Rd\n",
    "alpha = 1 / Rd\n",
    "beta = 2 / zd"
   ]
  },
  {
   "cell_type": "code",
   "execution_count": null,
   "id": "a3f49d84-b1fb-4a95-9ef6-b3bc8be3591d",
   "metadata": {},
   "outputs": [],
   "source": [
    "mp_func = np.frompyfunc(mpmath.hyp2f1, 4, 1)\n",
    "def Iz(z, k, b):\n",
    "    factor = k / (k + b)\n",
    "    first_part = np.exp(-z * b) * hyp2f1(1, 1 + k / b, 2 + k / b, -np.exp(-z * b))\n",
    "    second_part = np.exp(z * b) *  np.asarray(mp_func(1, 1 + k / b, 2 + k / b, -np.exp(z * b)), dtype=np.float64)\n",
    "    \n",
    "    return (4 / b) * (1 - factor * (first_part + second_part))\n",
    "\n",
    "def potential_integral(k, R, z, alpha, beta):\n",
    "    return jv(0, k * R) * Iz(z, k, b=beta) / (alpha**2 + k**2)**1.5\n"
   ]
  },
  {
   "cell_type": "code",
   "execution_count": null,
   "id": "26de042a-8316-4c37-8533-84313caf9549",
   "metadata": {},
   "outputs": [],
   "source": [
    "data = np.loadtxt(\"test_phi_grid.dat\")\n",
    "R_test, z_test, phi_test = data.T\n",
    "\n",
    "R_test = R_test.reshape(250, 250)\n",
    "z_test = z_test.reshape(250, 250)\n",
    "phi_test = phi_test.reshape(250, 250)"
   ]
  },
  {
   "cell_type": "code",
   "execution_count": null,
   "id": "a39b8092-3056-41f3-8747-c433997e7212",
   "metadata": {},
   "outputs": [],
   "source": [
    "%%time\n",
    "phi = itg.quad_vec(potential_integral, a=0, b=np.inf, args=(R_test, z_test, alpha, beta))"
   ]
  },
  {
   "cell_type": "markdown",
   "id": "c4da2e21-3818-4dc6-a622-a12ee6119e7b",
   "metadata": {},
   "source": [
    "The previous cell takes too much time to run, and is absolutely unusable."
   ]
  },
  {
   "cell_type": "code",
   "execution_count": null,
   "id": "c4f6a91f-818c-45d4-bd05-7cddd91ea2a3",
   "metadata": {},
   "outputs": [],
   "source": [
    "plt.figure()\n",
    "plt.title(\"Relative Error\")\n",
    "plt.pcolormesh(R_test, z_test, np.abs(phi_test - phi_)/phi_)\n",
    "plt.xlabel(\"$R$\")\n",
    "plt.ylabel(\"$z$\")\n",
    "plt.colorbar(label=\"$\\dfrac{\\Delta \\Phi(R, z)}{\\Phi(R, z)}$\");"
   ]
  },
  {
   "cell_type": "code",
   "execution_count": null,
   "id": "a10cf8af-5f86-4a13-ad28-9bb7ff03f99e",
   "metadata": {},
   "outputs": [],
   "source": [
    "counts, bins = np.histogram(np.abs((phi_test - phi_)/phi_).flatten())\n",
    "plt.bar(bins[:-1], counts, width=(bins[1]-bins[0]), log=True)\n",
    "plt.xlabel(\"Relative Error\")\n",
    "plt.ylabel(\"Count\");"
   ]
  },
  {
   "cell_type": "code",
   "execution_count": null,
   "id": "a55140a1-e81a-4c94-847a-02b517bd1f26",
   "metadata": {},
   "outputs": [],
   "source": []
  }
 ],
 "metadata": {
  "kernelspec": {
   "display_name": "Python 3 (ipykernel)",
   "language": "python",
   "name": "python3"
  },
  "language_info": {
   "codemirror_mode": {
    "name": "ipython",
    "version": 3
   },
   "file_extension": ".py",
   "mimetype": "text/x-python",
   "name": "python",
   "nbconvert_exporter": "python",
   "pygments_lexer": "ipython3",
   "version": "3.10.10"
  }
 },
 "nbformat": 4,
 "nbformat_minor": 5
}
