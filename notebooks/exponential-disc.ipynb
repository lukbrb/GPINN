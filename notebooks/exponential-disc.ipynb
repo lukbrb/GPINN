{
 "cells": [
  {
   "cell_type": "markdown",
   "id": "34420008-c939-4ed2-ba09-56675489f4bd",
   "metadata": {},
   "source": [
    "# Exponential Thick Disc"
   ]
  },
  {
   "cell_type": "markdown",
   "id": "431b7191-97c0-4828-abc7-e7cdf8b85ab1",
   "metadata": {},
   "source": [
    "Density profile : \n",
    "\n",
    "\n",
    "\\begin{equation}\n",
    "\\label{eq:df_disc}\n",
    "\\rho(R, z) = \\rho_{d, 0} \\rho_R (R) \\rho_z (z)\n",
    "\\end{equation}\n",
    "\n",
    "where \n",
    "\n",
    "$$ \\rho_R (R) = e^{\\alpha R}$$\n",
    "\n",
    "and $$ \\rho_z (z) = \\cosh^{-2}{\\left(\\frac{\\beta z}{2} \\right)}$$"
   ]
  },
  {
   "cell_type": "markdown",
   "id": "7dc237f6-b12c-4ee3-b2e6-ac2d84ffa246",
   "metadata": {},
   "source": [
    "Result is : \n",
    "\n",
    "\\begin{equation}\n",
    "\\label{eq:sol_disc}\n",
    "\\Phi(R, z) = - 2\\pi G \\alpha \\rho_{d, 0} \\int_{0}^{\\infty} dk J_0 (kR) \\dfrac{I_z (k)}{(\\alpha^2 + k^2)^{\\frac{3}{2}}}\n",
    "\\end{equation}"
   ]
  },
  {
   "cell_type": "markdown",
   "id": "3bda4623-49f0-4bb7-b085-e4f42d1230f4",
   "metadata": {},
   "source": [
    "where \n",
    "$$\n",
    "\\begin{equation}\n",
    "\\label{eq:integral}\n",
    "I_z(k) = \\dfrac{4}{\\beta} \\left\\{ 1 - \\dfrac{k}{k+\\beta} \\left[ e^{-z\\beta} {}_2F_1\\left(1, 1 + \\frac{k}{\\beta}; 2 + \\frac{k}{\\beta}; -e^{-z\\beta} \\right) + e^{z\\beta} {}_2F_1\\left(1, 1 + \\frac{k}{\\beta}; 2 + \\frac{k}{\\beta}; -e^{z\\beta} \\right)\\right] \\right\\}\n",
    "\\end{equation}\n",
    "$$"
   ]
  },
  {
   "cell_type": "markdown",
   "id": "eea7f536-3578-4555-9c64-7a314e29bbe9",
   "metadata": {},
   "source": [
    "where $_2F_1$ is the Gaussian hypergeometric function, such that :\n",
    "\n",
    "$$ _2F_1(a, b, c; z) = \\sum_{n=0}^{\\infty} \\frac{(a)_n (b)_n}{(c)_n}\\cdot \\dfrac{z^n}{n!}$$ \n",
    "\n",
    "where $(a)_n$ is the Pochhammer symbol and $|z| < 1$.\n",
    "\n",
    "This special function is implemented in scipy : https://docs.scipy.org/doc/scipy/reference/generated/scipy.special.hyp2f1.html"
   ]
  },
  {
   "cell_type": "markdown",
   "id": "cd59b4ea-0c71-4ba5-9637-fe20adbd5f08",
   "metadata": {},
   "source": [
    "**Note:**\n",
    "\n",
    "I try here to simplify the Poisson equation the real space :\n",
    " \n",
    "$$ \\nabla^2 \\Phi (R, z) = 4\\pi G \\rho_0 e^{\\frac{-R}{R_d}} \\cosh^2{\\frac{z}{z_d}}$$\n",
    "\n",
    "which in cylindrical coordinates, with independence on the $\\theta$ component reduces to:\n",
    "\n",
    "$$ \\dfrac{1}{R} \\dfrac{\\partial}{\\partial R} \\left( R \\dfrac{\\partial \\Phi}{\\partial R}\\right) + \\dfrac{\\partial^2 \\Phi}{\\partial z^2} = 4\\pi G \\rho_0 e^{\\frac{-R}{R_d}} \\cosh^2{\\frac{z}{z_d}}$$\n",
    "\n",
    "setting $z' = \\dfrac{z}{z_d}$ and $R' = \\dfrac{R}{R_d}$ , we can write simplify the equation in the following form :\n",
    "\n",
    "$$ \\dfrac{1}{R_{d}^{2}} \\dfrac{1}{R'} \\dfrac{\\partial}{\\partial R'} \\left(R' \\dfrac{\\partial \\Phi}{\\partial R'}\\right) + \\dfrac{1}{z_{d}^{2}}\\dfrac{\\partial^2 \\Phi}{\\partial z'^2} = 4\\pi G \\rho_0 e^{-R'} \\cosh^2{z'}$$"
   ]
  },
  {
   "cell_type": "markdown",
   "id": "aba9c836-c9e6-4ebc-8233-4a6f059c2671",
   "metadata": {},
   "source": [
    "We can therefore try to solve for the potential using `scipy.integrate.quad` function. We need to give it the right hand side of the potential expression, as well as the boundaries."
   ]
  },
  {
   "cell_type": "code",
   "execution_count": 1,
   "id": "38182663-a786-49fc-81b8-2388da1e69b2",
   "metadata": {},
   "outputs": [],
   "source": [
    "import numpy as np\n",
    "import matplotlib.pyplot as plt\n",
    "import scipy.integrate as itg\n",
    "from scipy.special import hyp2f1, jv"
   ]
  },
  {
   "cell_type": "code",
   "execution_count": 2,
   "id": "3bafd670-b31a-4478-aab3-4bcc4d87b135",
   "metadata": {},
   "outputs": [],
   "source": [
    "def Iz(z, k, b):\n",
    "    factor = k / (k + b)\n",
    "    first_part = np.exp(-z * b) * hyp2f1(1, 1 + k / b, 2 + k / b, -np.exp(-z * b))\n",
    "    second_part = np.exp(z * b) * hyp2f1(1, 1 + k / b, 2 + k / b, -np.exp(z * b))\n",
    "    \n",
    "    return (4 / b) + (1 - factor * (first_part + second_part))"
   ]
  },
  {
   "cell_type": "code",
   "execution_count": 3,
   "id": "106108c7-43e5-4080-a1e7-6173d169c9c4",
   "metadata": {},
   "outputs": [],
   "source": [
    "def potential_integral(k, R, z, alpha, beta):\n",
    "    return jv(0, R) * Iz(z, k, b=beta) / (alpha**2 + k**2)**1.5"
   ]
  },
  {
   "cell_type": "markdown",
   "id": "32546042-2d59-4f33-a0c0-8806ba1e3e97",
   "metadata": {},
   "source": [
    "**Proper values have to be set for the following parameters :**"
   ]
  },
  {
   "cell_type": "code",
   "execution_count": 4,
   "id": "1c7ddf67-96ef-47b9-a722-ba65f9ea2084",
   "metadata": {},
   "outputs": [],
   "source": [
    "R_scalar = 1\n",
    "z_scalar = 0.5\n",
    "Rd = 2\n",
    "zd = 0.3\n",
    "alpha = 1 / Rd\n",
    "beta = 2 / zd"
   ]
  },
  {
   "cell_type": "markdown",
   "id": "d2cdc425-a74c-4119-99fe-771ae342e56f",
   "metadata": {},
   "source": [
    "We can only compute for aparticular value of $(R, z)$ with the `quad`function :"
   ]
  },
  {
   "cell_type": "code",
   "execution_count": 5,
   "id": "75d4a734-737e-4f7e-8dcf-c52a18e28ba0",
   "metadata": {},
   "outputs": [],
   "source": [
    "scalar_sol = itg.quad(func=potential_integral, a=0, b=np.inf, args=(R_scalar, z_scalar, alpha, beta))"
   ]
  },
  {
   "cell_type": "code",
   "execution_count": 6,
   "id": "ff1f35e9-778f-4103-a6ca-c290c87c80da",
   "metadata": {},
   "outputs": [
    {
     "data": {
      "text/plain": [
       "(4.34982108956373, 6.279792457417721e-08)"
      ]
     },
     "execution_count": 6,
     "metadata": {},
     "output_type": "execute_result"
    }
   ],
   "source": [
    "scalar_sol"
   ]
  },
  {
   "cell_type": "markdown",
   "id": "b3cc75c5-fc7b-4a49-9611-997be2eeaddc",
   "metadata": {},
   "source": [
    "We can integrate over a domain $R \\times z$ using the `quad_vec` function : "
   ]
  },
  {
   "cell_type": "code",
   "execution_count": 7,
   "id": "28f72e07-b7be-47ce-bbf9-e0ab23b32817",
   "metadata": {},
   "outputs": [],
   "source": [
    "Rtab = np.linspace(1e-2, 10, 100)\n",
    "ztab = np.linspace(1e-2, 0.1, 100)\n",
    "\n",
    "Rv, zv = np.meshgrid(Rtab, ztab)"
   ]
  },
  {
   "cell_type": "code",
   "execution_count": 8,
   "id": "668f704a-6535-4e6c-9dda-3b91ce48c5b3",
   "metadata": {},
   "outputs": [],
   "source": [
    "vec_sol = itg.quad_vec(potential_integral, a=0, b=np.inf, args=(Rv, zv, alpha, beta))"
   ]
  },
  {
   "cell_type": "code",
   "execution_count": 9,
   "id": "e3be094f-7360-4b38-81be-a4a135467470",
   "metadata": {},
   "outputs": [
    {
     "data": {
      "image/png": "[encoded data removed]",
      "text/plain": [
       "<Figure size 640x480 with 2 Axes>"
      ]
     },
     "metadata": {},
     "output_type": "display_data"
    }
   ],
   "source": [
    "plt.figure()\n",
    "plt.pcolormesh(Rv, zv, vec_sol[0])\n",
    "plt.xlabel(\"$R$\")\n",
    "plt.ylabel(\"$z$\")\n",
    "plt.colorbar(label=\"$\\Phi(R, z)$\");"
   ]
  },
  {
   "cell_type": "markdown",
   "id": "cab44950-aa60-427a-abaa-4165fde02026",
   "metadata": {},
   "source": [
    "Or alternatively we can set $R$ to a scalar value, and let $z$ be the only variable : *(I am not sure what is the way the proceed)*"
   ]
  },
  {
   "cell_type": "code",
   "execution_count": 10,
   "id": "002d8634-d99b-4475-b192-f87ff3a0b059",
   "metadata": {},
   "outputs": [],
   "source": [
    "vec_sol = itg.quad_vec(potential_integral, a=0, b=np.inf, args=(R_scalar, ztab, alpha, beta))"
   ]
  },
  {
   "cell_type": "code",
   "execution_count": 11,
   "id": "188bbcb9-e9a7-48a0-88f7-00b5706c177c",
   "metadata": {},
   "outputs": [
    {
     "data": {
      "image/png": "[encoded data removed]",
      "text/plain": [
       "<Figure size 640x480 with 1 Axes>"
      ]
     },
     "metadata": {},
     "output_type": "display_data"
    }
   ],
   "source": [
    "plt.figure()\n",
    "plt.plot(ztab, vec_sol[0])\n",
    "plt.xlabel(\"$z$\")\n",
    "plt.ylabel(f\"$\\Phi(R={R_scalar}, z)$\");"
   ]
  },
  {
   "cell_type": "code",
   "execution_count": null,
   "id": "d9a11f56-6b2f-4d41-8216-27a305e50c36",
   "metadata": {},
   "outputs": [],
   "source": []
  }
 ],
 "metadata": {
  "kernelspec": {
   "display_name": "Python 3 (ipykernel)",
   "language": "python",
   "name": "python3"
  },
  "language_info": {
   "codemirror_mode": {
    "name": "ipython",
    "version": 3
   },
   "file_extension": ".py",
   "mimetype": "text/x-python",
   "name": "python",
   "nbconvert_exporter": "python",
   "pygments_lexer": "ipython3",
   "version": "3.10.10"
  }
 },
 "nbformat": 4,
 "nbformat_minor": 5
}
