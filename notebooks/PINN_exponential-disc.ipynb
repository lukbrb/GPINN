{
 "cells": [
  {
   "cell_type": "markdown",
   "id": "48b504bd-f911-4005-94a2-a805ca4f8c0a",
   "metadata": {},
   "source": [
    "# Exponential Disc"
   ]
  },
  {
   "cell_type": "code",
   "execution_count": null,
   "id": "f806f4d6-8ff3-498e-a2e2-45239fee04d7",
   "metadata": {},
   "outputs": [],
   "source": [
    "import sys\n",
    "import numpy as np\n",
    "import torch\n",
    "import matplotlib.pyplot as plt\n",
    "from pyDOE import lhs\n",
    "\n",
    "sys.path.append('../')\n",
    "from gpinn.network import FCN\n",
    "from gpinn.training import TrainingPhase"
   ]
  },
  {
   "cell_type": "markdown",
   "id": "5a042e0e-0fcb-4282-b3da-c5702bb88c0a",
   "metadata": {},
   "source": [
    "As a reminder, the equation we want to solve is the following :\n",
    "\n",
    "$$ \\dfrac{1}{R'} \\dfrac{\\partial}{\\partial R'} \\left(R' \\dfrac{\\partial \\Phi'}{\\partial R'}\\right) + \\dfrac{1}{\\eta^{2}}\\dfrac{\\partial^2 \\Phi'}{\\partial z'^2} = e^{-R'} \\cosh^{-2}{z'}$$\n",
    "\n",
    "where we have defined : $\\phi'= \\frac{\\phi}{G M_d/z_d}$, $z' = \\dfrac{z}{z_d}$, $R' = \\dfrac{R}{R_d}$and $\\eta = \\frac{z_d}{R_d} $.\n",
    "\n",
    "Therefore the residual would be written as follows:\n",
    "$$\\dfrac{1}{R'} \\dfrac{\\partial}{\\partial R'} \\left(R' \\dfrac{\\partial \\Phi'}{\\partial R'}\\right) + \\dfrac{1}{\\eta^{2}}\\dfrac{\\partial^2 \\Phi'}{\\partial z'^2} - e^{-R_i'} \\cosh^{-2}{z_i'}$$\n",
    "\n",
    "and the loss function for the collocation points:\n",
    "$$ \\mathcal{L}_{\\mathcal{F}}(\\theta) = MSE_{\\mathcal{F}} = \\dfrac{1}{N_c}\\sum_{i=1}^{N_c}\\left\\|\\dfrac{1}{R'} \\dfrac{\\partial}{\\partial R'} \\left(R' \\dfrac{\\partial \\Phi'}{\\partial R'}\\right) + \\dfrac{1}{\\eta^{2}}\\dfrac{\\partial^2 \\Phi'}{\\partial z'^2} - e^{-R_i'} \\cosh^{-2}{z_i'}\\right\\|^2$$"
   ]
  },
  {
   "cell_type": "markdown",
   "id": "e2393f91-3e8d-4817-bd8e-c441263af649",
   "metadata": {},
   "source": [
    "$z_d$, for now, we will set it in order to have $\\dfrac{z_d}{R_d}=0.2$\n",
    "\n",
    "The domain where to solve the equations can be between $\\dfrac{R}{R_d} = [0;20]$  and $\\dfrac{z}{z_d} = [0;5]$\n",
    "\n",
    "We should also investigate where and when is possible to solve the equation via approximations.\n",
    "\n",
    "To compare our results, we set here :\n",
    "- $R_d = 4$  \n",
    "- $\\dfrac{z_d}{R_d}=0.2$  \n",
    "- $M_d = 10^{10.5}$   "
   ]
  },
  {
   "cell_type": "code",
   "execution_count": null,
   "id": "5de4474e-826a-4d5e-9db1-f96dcc62b5ee",
   "metadata": {},
   "outputs": [],
   "source": [
    "Rd = 4\n",
    "eta = 0.2\n",
    "zd = Rd * eta\n",
    "Md = 10**10.5"
   ]
  },
  {
   "cell_type": "code",
   "execution_count": null,
   "id": "6401357d-19a5-4c79-b01d-ae3a625c824c",
   "metadata": {},
   "outputs": [],
   "source": [
    "def pde_residual(nn, x_pde):\n",
    "    r, z = x_pde[:, 0].unsqueeze(1), x_pde[:, 1].unsqueeze(1)\n",
    "    x_pde.requires_grad = True \n",
    "    f = nn(x_pde)\n",
    "    # -------- Differentiation w.r.t. R ----------------\n",
    "    f_rz = torch.autograd.grad(f, x_pde, torch.ones(x_pde.shape[0], 1),retain_graph=True, create_graph=True)[0]\n",
    "    f_r = f_rz[:, 0].unsqueeze(1)\n",
    "    f_r = f_r * r\n",
    "    f_rrz = torch.autograd.grad(f_r, x_pde, torch.ones(x_pde.shape[0], 1), retain_graph=True, create_graph=True)[0]\n",
    "    f_rr = f_rrz[:, 0].unsqueeze(1)\n",
    "    # -------- Differentiation w.r.t. z ----------------\n",
    "    f_z = f_rz[:, 1].unsqueeze(1)\n",
    "    f_zzr = torch.autograd.grad(f_z, x_pde, torch.ones(x_pde.shape[0], 1), retain_graph=True, create_graph=True)[0]\n",
    "    f_zz = f_zzr[:, 1].unsqueeze(1)\n",
    "    \n",
    "    lhs = 1/r * f_rr + 1/eta**2 * f_zz\n",
    "    rhs = torch.exp(-r) * torch.cosh(z)**(-2)\n",
    "    return lhs - rhs"
   ]
  },
  {
   "cell_type": "code",
   "execution_count": null,
   "id": "191f4e37-5e25-462f-80cb-ee1570657a0c",
   "metadata": {},
   "outputs": [],
   "source": [
    "def mse(residual: torch.Tensor):\n",
    "    return residual.pow(2).mean()\n",
    "\n",
    "def rmse(residual: torch.Tensor):\n",
    "    return torch.sqrt(residual.pow(2).mean())\n",
    "\n",
    "def mae(array: torch.Tensor):\n",
    "    return torch.abs(array).mean()"
   ]
  },
  {
   "cell_type": "markdown",
   "id": "b35b51fa-d898-494a-ba20-a9d47ade9fb7",
   "metadata": {},
   "source": [
    "## Parameters"
   ]
  },
  {
   "cell_type": "code",
   "execution_count": null,
   "id": "4004e22e-5c45-4cf5-a012-72054a654700",
   "metadata": {},
   "outputs": [],
   "source": [
    "# To generate new data:\n",
    "z_min = 0\n",
    "z_max = 4\n",
    "r_min = 0\n",
    "r_max = 80\n",
    "total_points_z = 250\n",
    "total_points_r = 250\n",
    "# Nu: Number of training points # Nf: Number of collocation points (Evaluate PDE)\n",
    "Nu = 296\n",
    "Nf = 1024"
   ]
  },
  {
   "cell_type": "markdown",
   "id": "2d38c317-a55c-4d5b-856d-75982048b138",
   "metadata": {},
   "source": [
    "## Data Generation"
   ]
  },
  {
   "cell_type": "code",
   "execution_count": null,
   "id": "26536983-da55-4822-84ea-f61dee9c34fa",
   "metadata": {},
   "outputs": [],
   "source": [
    "z = torch.linspace(z_min, z_max, total_points_z).view(-1, 1)/zd\n",
    "r = torch.linspace(r_min, r_max, total_points_r).view(-1, 1)/Rd\n",
    "R, Z = torch.meshgrid(r.squeeze(1), z.squeeze(1), indexing='xy')"
   ]
  },
  {
   "cell_type": "markdown",
   "id": "93aaaeac-963e-4b30-b48f-7830cad2d811",
   "metadata": {},
   "source": [
    "**Note:** To evaluate the potential $\\Phi(R, z)$ on the boundaries, we first need to interpolate it from the data acquired during previous simulations. "
   ]
  },
  {
   "cell_type": "code",
   "execution_count": null,
   "id": "e96dc71c-cca3-4155-bb2a-878a8a10b435",
   "metadata": {},
   "outputs": [],
   "source": [
    "from scipy.interpolate import RegularGridInterpolator\n",
    "\n",
    "def load_data(reshape=True, scaled=False):\n",
    "    data = np.loadtxt(\"test_phi_grid.dat\")\n",
    "    R_test, z_test, phi_test = data.T\n",
    "    if scaled:\n",
    "        phi_test /= (10**(10.5)/zd)\n",
    "    if reshape:\n",
    "        return R_test.reshape(250, 250), z_test.reshape(250, 250), phi_test.reshape(250, 250)\n",
    "    \n",
    "    return R_test, z_test, phi_test\n",
    "    \n",
    "def phi_inter(R, z, scaled=True):\n",
    "    Md = 1\n",
    "    _r, _z, _phi = load_data(reshape=True)\n",
    "    _r /= Rd\n",
    "    _z /= zd\n",
    "    _phi *= zd\n",
    "    f = RegularGridInterpolator((np.ascontiguousarray(_r[:, 0]), np.ascontiguousarray(_z[0, :])), np.ascontiguousarray(_phi))\n",
    "    if scaled:\n",
    "        Md = 10**(10.5)\n",
    "    return torch.Tensor(f((R, z)) / Md)"
   ]
  },
  {
   "cell_type": "code",
   "execution_count": null,
   "id": "835ad0f8-6006-4143-b466-8090d5f53234",
   "metadata": {},
   "outputs": [],
   "source": [
    "%%time\n",
    "_ = phi_inter(R, Z, scaled=False)"
   ]
  },
  {
   "cell_type": "code",
   "execution_count": null,
   "id": "d98a2f62-c6a3-4974-ab8e-cb6bd0f79591",
   "metadata": {},
   "outputs": [],
   "source": [
    "plt.figure()\n",
    "plt.title('Potential interpolated')\n",
    "plt.pcolormesh(R, Z, phi_inter(R, Z, scaled=False))\n",
    "plt.xlabel(\"$R'$\")\n",
    "plt.ylabel(\"$z'$\")\n",
    "plt.colorbar(label=\"$\\Phi(R, z)$\");"
   ]
  },
  {
   "cell_type": "markdown",
   "id": "9a7b09fa-f4af-4be4-9a2e-5e923ce35431",
   "metadata": {},
   "source": [
    "## Boundary Conditions"
   ]
  },
  {
   "cell_type": "code",
   "execution_count": null,
   "id": "f1e9a094-0adc-4021-b1c0-d50f9bdb4911",
   "metadata": {},
   "outputs": [],
   "source": [
    "def plot_boundary_pot(phi_train, phi_th, x_min, x_max, n_points, *, border, r, z):\n",
    "    x_plot = np.linspace(x_min, x_max, n_points)\n",
    "    phi_train = np.abs(phi_train)\n",
    "    phi_th = np.abs(phi_th)\n",
    "    plt.figure()\n",
    "    plt.title(f\"Potential on {border} border\")\n",
    "    plt.plot(x_plot, phi_train, label=\"Training Data\")\n",
    "    plt.plot(np.linspace(x_min, x_max, 250), phi_th, label=\"Pre-Computed potential\")\n",
    "    plt.plot(x_plot[phi_train.argmax()], phi_train.max(), marker='x', color='red', label=f'$\\Phi=${phi_train.max(): .3f}')\n",
    "    plt.plot(x_plot[phi_train.argmin()], phi_train.min(), marker='x', color='green', label=f'$\\Phi=${phi_train.min(): .3f}')\n",
    "    plt.xlabel('$z$')\n",
    "    plt.ylabel(f'$\\Phi({r}, {z})$')\n",
    "    plt.yscale('log')\n",
    "    plt.legend();"
   ]
  },
  {
   "cell_type": "code",
   "execution_count": null,
   "id": "e6a8a2d1-9c4d-4734-903f-a379f45dcd93",
   "metadata": {},
   "outputs": [],
   "source": [
    "_, _, phi_scaled = load_data(scaled=True)"
   ]
  },
  {
   "cell_type": "markdown",
   "id": "27255d5e-98e0-4ca5-af7e-00bf48c9b186",
   "metadata": {},
   "source": [
    "### Left Boundary\n",
    "\n",
    "Corresponds to $R'=0$ and $z' \\in [0, 5]$."
   ]
  },
  {
   "cell_type": "code",
   "execution_count": null,
   "id": "c26d3fbe-656c-42f6-bd8f-2944ab6b1399",
   "metadata": {},
   "outputs": [],
   "source": [
    "left_X = torch.hstack((R[:, 0][:, None], Z[:, 0][:, None]))\n",
    "left_Y = phi_inter(left_X[:, 0], Z[:, 0]).unsqueeze(1)"
   ]
  },
  {
   "cell_type": "code",
   "execution_count": null,
   "id": "00ddbaaa-c512-411b-9854-c5f455c50cd1",
   "metadata": {},
   "outputs": [],
   "source": [
    "plot_boundary_pot(left_Y, phi_scaled[0, :], z_min/zd, z_max/zd, total_points_z, border='left', r=0, z='z');"
   ]
  },
  {
   "cell_type": "markdown",
   "id": "903cd34a-b6b2-47af-955e-82cd454e5153",
   "metadata": {},
   "source": [
    "### Bottom Boundary \n",
    "\n",
    "Corresponds to $R'\\in [0, 20]$ and $z' = 0$."
   ]
  },
  {
   "cell_type": "code",
   "execution_count": null,
   "id": "8cc8daaa-42cc-42ed-a6bc-22e72d30eada",
   "metadata": {},
   "outputs": [],
   "source": [
    "bottom_X = torch.hstack((R[0, :][:, None], Z[0, :][:, None]))\n",
    "bottom_Y = phi_inter(bottom_X[:, 0], Z[0, :]).unsqueeze(1)"
   ]
  },
  {
   "cell_type": "code",
   "execution_count": null,
   "id": "8e068a25-4d3c-4143-a469-97f426d2d26b",
   "metadata": {},
   "outputs": [],
   "source": [
    "plot_boundary_pot(bottom_Y, phi_scaled[:, 0], r_min/Rd, r_max/Rd, total_points_r, border='bottom', r='R', z=0);"
   ]
  },
  {
   "cell_type": "markdown",
   "id": "406262c6-3e6c-4c32-98c9-5897abb4a3dd",
   "metadata": {},
   "source": [
    "### Top Boundary\n",
    "\n",
    "Corresponds to $R'\\in [0, 20]$ and $z' = 5$."
   ]
  },
  {
   "cell_type": "code",
   "execution_count": null,
   "id": "789ca089-ccac-423f-9005-f0e091c11ce9",
   "metadata": {},
   "outputs": [],
   "source": [
    "top_X = torch.hstack((R[-1, :][:, None], Z[-1, :][:, None]))\n",
    "top_Y = phi_inter(top_X[:, 0], Z[-1, :]).unsqueeze(1)"
   ]
  },
  {
   "cell_type": "code",
   "execution_count": null,
   "id": "34963b73-1079-4523-8597-c35f356c466f",
   "metadata": {},
   "outputs": [],
   "source": [
    "plot_boundary_pot(top_Y, phi_scaled[:, -1], r_min/Rd, r_max/Rd, total_points_r, border='top', r='R', z=5);"
   ]
  },
  {
   "cell_type": "markdown",
   "id": "56dfe722-4f7d-4bb3-ad86-3d7e61e12f00",
   "metadata": {},
   "source": [
    "### Right Boundary\n",
    "\n",
    "Corresponds to $R'=20$ and $z' \\in [0, 5]$."
   ]
  },
  {
   "cell_type": "code",
   "execution_count": null,
   "id": "ac70fc90-640a-4b8a-8cae-ce3f49a99a76",
   "metadata": {},
   "outputs": [],
   "source": [
    "right_X = torch.hstack((R[:, -1][:, None], Z[:, -1][:, None]))\n",
    "right_Y = phi_inter(right_X[:, 0], Z[:, 0]).unsqueeze(1)"
   ]
  },
  {
   "cell_type": "code",
   "execution_count": null,
   "id": "6ed89a78-888e-4530-b8b7-13926ccd8449",
   "metadata": {},
   "outputs": [],
   "source": [
    "plot_boundary_pot(right_Y, phi_scaled[-1, :], z_min/zd, z_max/zd, total_points_z, border='right', r=20, z='z');"
   ]
  },
  {
   "cell_type": "markdown",
   "id": "2d923396-e384-4ba0-8f11-4d4a6a001a09",
   "metadata": {},
   "source": [
    "### Testing Data"
   ]
  },
  {
   "cell_type": "code",
   "execution_count": null,
   "id": "60f14840-6922-4634-bf8e-3badf454c320",
   "metadata": {},
   "outputs": [],
   "source": [
    "z_val = torch.linspace(z_min+0.1, z_max-0.1, total_points_z//3).view(-1, 1)/zd\n",
    "r_val = torch.linspace(r_min+0.1, r_max-0.1, total_points_r//3).view(-1, 1)/Rd\n",
    "R_val, Z_val = torch.meshgrid(r_val.squeeze(1), z_val.squeeze(1), indexing='xy')"
   ]
  },
  {
   "cell_type": "code",
   "execution_count": null,
   "id": "66238f3d-4c0d-43d1-9cc7-16b9c7fe420e",
   "metadata": {},
   "outputs": [],
   "source": [
    "# Transform the mesh into a 2-column vector\n",
    "lb_val = torch.Tensor([r_val[0], z_val[0]])\n",
    "ub_val = torch.Tensor([r_val[-1], z_val[-1]])\n",
    "\n",
    "X_val = lb_val + (ub_val - lb_val) * lhs(2, Nf//3)\n",
    "Y_val = phi_inter(X_val[:, 0], X_val[:, 1]).unsqueeze(1)"
   ]
  },
  {
   "cell_type": "code",
   "execution_count": null,
   "id": "41b087eb-7e8c-4b21-a833-2f1cb6ca1076",
   "metadata": {},
   "outputs": [],
   "source": [
    "y_real = phi_inter(R, Z)\n",
    "x_test = torch.hstack((R.transpose(1, 0).flatten()[:, None], Z.transpose(1, 0).flatten()[:, None]))\n",
    "y_test = y_real.transpose(1, 0).flatten()[:, None]  # Colum major Flatten (so we transpose it)\n",
    "# Domain bounds\n",
    "lb = x_test[0]  # first value\n",
    "ub = x_test[-1]  # last value"
   ]
  },
  {
   "cell_type": "markdown",
   "id": "524aeca6-c0ff-4680-9666-12afd3c70842",
   "metadata": {},
   "source": [
    "### Training Data"
   ]
  },
  {
   "cell_type": "code",
   "execution_count": null,
   "id": "511b6288-0ad2-42ad-b303-1c06b5a3a003",
   "metadata": {},
   "outputs": [],
   "source": [
    "X_train = torch.vstack([left_X, bottom_X, top_X, right_X])\n",
    "Y_train = torch.vstack([left_Y, bottom_Y, top_Y, right_Y])\n",
    "# Choose(Nu) points of our available training data:\n",
    "idx = np.random.choice(X_train.shape[0], Nu, replace=False)\n",
    "X_train_Nu = X_train[idx, :]\n",
    "Y_train_Nu = Y_train[idx, :]\n",
    "# Collocation Points (Evaluate our PDe)\n",
    "# Choose(Nf) points(Latin hypercube)\n",
    "lb = torch.Tensor([r[0], z[0]])\n",
    "ub = torch.Tensor([r[-1], z[-1]])\n",
    "X_train_Nf = lb + (ub - lb) * lhs(2, Nf)  # 2 as the inputs are x and gamma\n",
    "\n",
    "# X_train_Nf = torch.vstack((X_train_Nf, X_train_Nu))  # Add the training points to the collocation point"
   ]
  },
  {
   "cell_type": "markdown",
   "id": "f845013c-1720-4fae-bf83-e0040a37f163",
   "metadata": {},
   "source": [
    "### Initial Points"
   ]
  },
  {
   "cell_type": "code",
   "execution_count": null,
   "id": "6eb2a3c0-cdf9-4d37-b64b-a7722a57e726",
   "metadata": {},
   "outputs": [],
   "source": [
    "plt.figure()\n",
    "plt.title(\"Configuration of training points\")\n",
    "plt.plot(X_train_Nu[:, 0], X_train_Nu[:, 1], 'xr', label=\"Boundary Points\")\n",
    "plt.plot(X_train_Nf[:, 0], X_train_Nf[:, 1], '.b', label=\"Collocation Points\")\n",
    "plt.plot(X_val[:, 0], X_val[:, 1], '.g', label=\"Validation points\")\n",
    "plt.xlabel(\"$R'$\")\n",
    "plt.ylabel(\"$z'$\")\n",
    "plt.legend(loc='upper right')\n",
    "plt.show()"
   ]
  },
  {
   "cell_type": "markdown",
   "id": "655ce864-8bf3-44ef-ba08-20f5b6f8fba4",
   "metadata": {},
   "source": [
    "## Creating the model\n",
    "\n",
    "Tuning of hyper-parameters has been done, we can load the best parameters as follows:"
   ]
  },
  {
   "cell_type": "code",
   "execution_count": null,
   "id": "c89a5dd2-54fa-44d5-8a5e-dc90544b2e6d",
   "metadata": {},
   "outputs": [],
   "source": [
    "import sqlite3\n",
    "\n",
    "def read_sorted_results(database_file, table):\n",
    "    conn = sqlite3.connect(database_file)\n",
    "    cursor = conn.cursor()\n",
    "    \n",
    "    query = f\"SELECT * FROM {table} ORDER BY max_accuracy ASC\"\n",
    "    cursor.execute(query)\n",
    "    \n",
    "    results = cursor.fetchall()\n",
    "    \n",
    "    conn.close()\n",
    "    \n",
    "    return results\n",
    "\n",
    "def read_model_details(model_name):\n",
    "    with open(f\"../tuning/{model_name}.txt\") as f:\n",
    "        data = f.read()\n",
    "    return data"
   ]
  },
  {
   "cell_type": "code",
   "execution_count": null,
   "id": "737625f5-387d-4390-a08b-7d6389ce60b5",
   "metadata": {},
   "outputs": [],
   "source": [
    "# Exemple d'utilisation :\n",
    "database_file = '../results.db'\n",
    "sorted_results = read_sorted_results(database_file, table='expdisc')\n",
    "\n",
    "nth_result = 0\n",
    "print(f\"Number {nth_result+1} result with smallest average relative error:\", sorted_results[nth_result])\n",
    "\n",
    "model_details = read_model_details(sorted_results[nth_result][1])\n",
    "\n",
    "print(model_details)"
   ]
  },
  {
   "cell_type": "markdown",
   "id": "7eca6b07-b3a7-42e7-bd50-9680693c8c9d",
   "metadata": {},
   "source": [
    "### Training"
   ]
  },
  {
   "cell_type": "code",
   "execution_count": null,
   "id": "af0c3237-2742-4366-bda1-0e2a3902406b",
   "metadata": {},
   "outputs": [],
   "source": [
    "steps = 50_000\n",
    "layers = np.array([2, 128, 128, 128, 128, 128, 128,  1])\n",
    "PINN = FCN(layers, act=torch.nn.Sigmoid())\n",
    "print(PINN)\n",
    "training = TrainingPhase(neural_net=PINN, training_points=(X_train_Nu, Y_train_Nu, X_train_Nf),\n",
    "                         testing_points=(X_val, Y_val), equation=pde_residual, n_epochs=steps,\n",
    "                         _loss_function=mse)\n",
    "\n",
    "net, epochs, train_losses, val_losses, accuracies = training.train_model(optimizer=torch.optim.Adam, learning_rate=1e-5)"
   ]
  },
  {
   "cell_type": "code",
   "execution_count": null,
   "id": "9f775abe-7cbb-4a0d-913a-c257d6aa6ed7",
   "metadata": {},
   "outputs": [],
   "source": [
    "np.save(\"../arrays/loss_disc.npy\", train_losses)\n",
    "np.save(\"../arrays/epochs_disc.npy\", epochs)\n",
    "training.save_model(\"../models/exp_disc.pt\")"
   ]
  },
  {
   "cell_type": "markdown",
   "id": "6a6ec045-5d4e-49a7-bab9-e95104342441",
   "metadata": {},
   "source": [
    "### Training Results"
   ]
  },
  {
   "cell_type": "code",
   "execution_count": null,
   "id": "9de299c8-a440-42c5-a404-8d1006e2466f",
   "metadata": {},
   "outputs": [],
   "source": [
    "plt.figure()\n",
    "plt.title('Training loss')\n",
    "plt.plot(epochs, train_losses, label=\"Training Loss\")\n",
    "plt.plot(epochs, val_losses, label=\"Validation Loss\")\n",
    "plt.xlabel('Epochs')\n",
    "plt.ylabel('Loss')\n",
    "plt.legend()\n",
    "plt.yscale('log');"
   ]
  },
  {
   "cell_type": "code",
   "execution_count": null,
   "id": "403a271c-3e32-432a-97b7-f2a3e1e1622f",
   "metadata": {},
   "outputs": [],
   "source": [
    "plt.figure()\n",
    "plt.title(\"Mean relative accuracy\")\n",
    "plt.plot(epochs, np.abs(accuracies), label=\"Accuracy\")\n",
    "plt.xlabel(\"Epochs\")\n",
    "plt.ylabel(\"Accuracy\")\n",
    "plt.yscale('log');"
   ]
  },
  {
   "cell_type": "markdown",
   "id": "43841469-a039-425a-be41-f30bca6ea59b",
   "metadata": {},
   "source": [
    "### Comparing Results"
   ]
  },
  {
   "cell_type": "markdown",
   "id": "41eb15c6-68c8-4db3-860d-f87315a61b36",
   "metadata": {},
   "source": [
    "### Testing on a $[0, 20] \\times [0, 5]$ domain"
   ]
  },
  {
   "cell_type": "code",
   "execution_count": null,
   "id": "a369c04b-eefd-4bb6-914e-6260308082cd",
   "metadata": {},
   "outputs": [],
   "source": [
    "R_test, z_test, phi_test = load_data(scaled=True, reshape=True)\n",
    "R_test /= Rd\n",
    "z_test /= zd"
   ]
  },
  {
   "cell_type": "code",
   "execution_count": null,
   "id": "98589fb4-0ac6-45cf-8d77-95621d9e4462",
   "metadata": {},
   "outputs": [],
   "source": [
    "input_matrix = np.array([R_test.flatten(), z_test.flatten()]).T\n",
    "phi_pred = net(input_matrix).detach().numpy().reshape(250, 250)"
   ]
  },
  {
   "cell_type": "code",
   "execution_count": null,
   "id": "57d5b956-855e-4c92-acf6-6409313542e6",
   "metadata": {},
   "outputs": [],
   "source": [
    "diff = phi_test - phi_pred\n",
    "vmin, vmax = np.percentile(diff, (5, 95))"
   ]
  },
  {
   "cell_type": "code",
   "execution_count": null,
   "id": "d7d70306-6896-457a-8d29-4c181548345a",
   "metadata": {},
   "outputs": [],
   "source": [
    "plt.figure()\n",
    "plt.title(\"Absolute Error on simulated data\")\n",
    "plt.pcolormesh(R_test, z_test, np.abs(diff))\n",
    "plt.xlabel(\"$R'$\")\n",
    "plt.ylabel(\"$z'$\")\n",
    "plt.colorbar(label=\"$\\dfrac{\\Delta \\Phi(R, z)}{\\Phi(R, z)}$\");"
   ]
  },
  {
   "cell_type": "code",
   "execution_count": null,
   "id": "e2eb3e37-9367-4403-a409-9b2a02dfa5df",
   "metadata": {},
   "outputs": [],
   "source": [
    "plt.figure()\n",
    "plt.title(\"Relative Error on simulated data\")\n",
    "plt.pcolormesh(R_test, z_test, diff/phi_test)\n",
    "plt.xlabel(\"$R'$\")\n",
    "plt.ylabel(\"$z'$\")\n",
    "plt.colorbar(label=\"$\\dfrac{\\Delta \\Phi(R, z)}{\\Phi(R, z)}$\");\n",
    "#plt.clim(vmin=vmin, vmax=vmax);"
   ]
  },
  {
   "cell_type": "code",
   "execution_count": null,
   "id": "d5e77098-3b13-4cab-8435-29378a895431",
   "metadata": {},
   "outputs": [],
   "source": [
    "print(f\"Max relative error: {float((diff/phi_test).max()): %}\")\n",
    "print(f\"Average relative error: {float(np.abs((diff/phi_test)).mean()): %}\")"
   ]
  },
  {
   "cell_type": "markdown",
   "id": "ca2aee88-0cf0-4238-824a-dbd8f4e797a4",
   "metadata": {},
   "source": [
    "We have tested the unscaled PINN on the data used for the interpolation. Just to make sure everything works as expected let us test the result on a domain for which we are sure the points haven't been seen. "
   ]
  },
  {
   "cell_type": "code",
   "execution_count": null,
   "id": "350d9852-d01e-44ef-8ac5-8050fc2d0161",
   "metadata": {},
   "outputs": [],
   "source": [
    "n_points = 500\n",
    "R_test = np.linspace(0, 80, n_points)/Rd\n",
    "z_test = np.linspace(0, 4, n_points)/zd\n",
    "R_test, z_test = np.meshgrid(R_test, z_test, indexing='ij')\n",
    "phi_test = phi_inter(R_test, z_test)"
   ]
  },
  {
   "cell_type": "code",
   "execution_count": null,
   "id": "701eb817-e98e-448e-8aa3-ba47f7039650",
   "metadata": {},
   "outputs": [],
   "source": [
    "input_matrix = np.array([R_test.flatten(), z_test.flatten()]).T\n",
    "phi_pred = net(input_matrix).detach().numpy().reshape(n_points, n_points)"
   ]
  },
  {
   "cell_type": "code",
   "execution_count": null,
   "id": "096ca04a-089d-46e1-a52a-910d73fb26b4",
   "metadata": {},
   "outputs": [],
   "source": [
    "diff = phi_test - phi_pred\n",
    "vmin, vmax = np.percentile(diff, (5, 95))"
   ]
  },
  {
   "cell_type": "code",
   "execution_count": null,
   "id": "c6bd72c8-61c0-4869-9030-707c8be95523",
   "metadata": {},
   "outputs": [],
   "source": [
    "plt.figure()\n",
    "plt.title(\"Predicted Testing Potential\")\n",
    "plt.pcolormesh(R_test, z_test, phi_pred)\n",
    "plt.xlabel(\"$R$\")\n",
    "plt.ylabel(\"$z$\")\n",
    "plt.colorbar(label=\"$\\Phi(R, z)$\");"
   ]
  },
  {
   "cell_type": "code",
   "execution_count": null,
   "id": "63f35def-1c48-41fa-b2b6-276c2be20b5f",
   "metadata": {},
   "outputs": [],
   "source": [
    "plt.figure()\n",
    "plt.title(\"Relative Error\")\n",
    "plt.pcolormesh(R_test, z_test, diff/phi_test)\n",
    "plt.xlabel(\"$R$\")\n",
    "plt.ylabel(\"$z$\")\n",
    "plt.colorbar(label=\"$\\dfrac{\\Delta \\Phi(R, z)}{\\Phi(R, z)}$\");"
   ]
  },
  {
   "cell_type": "code",
   "execution_count": null,
   "id": "89390caf-a6f0-449b-b8a6-ccd18aead8e1",
   "metadata": {},
   "outputs": [],
   "source": [
    "print(f\"Max relative error: {float((diff/phi_test).max()): %}\")\n",
    "print(f\"Average relative error: {float(np.abs((diff/phi_test)).mean()): %}\")"
   ]
  },
  {
   "cell_type": "markdown",
   "id": "d83a1c16-5de1-4e4a-b3c4-89ba8d2ad7e1",
   "metadata": {},
   "source": [
    "We now wish to give it back the right dimensions by multiplying the mass $M=10^{10.5}$"
   ]
  },
  {
   "cell_type": "code",
   "execution_count": null,
   "id": "9d96ca9b-11d7-4f26-b33a-f07d658ab8ec",
   "metadata": {},
   "outputs": [],
   "source": [
    "n_points = 500\n",
    "R_test = np.linspace(0, 80, n_points)/Rd\n",
    "z_test = np.linspace(0, 4, n_points)/zd\n",
    "R_test, z_test = np.meshgrid(R_test, z_test, indexing='ij')\n",
    "phi_test = phi_inter(R_test, z_test) * Md"
   ]
  },
  {
   "cell_type": "code",
   "execution_count": null,
   "id": "5b614904-1ac9-4536-8097-e452575b5cd6",
   "metadata": {},
   "outputs": [],
   "source": [
    "input_matrix = np.array([R_test.flatten(), z_test.flatten()]).T\n",
    "phi_pred = net(input_matrix).detach().numpy().reshape(n_points, n_points) * Md"
   ]
  },
  {
   "cell_type": "code",
   "execution_count": null,
   "id": "322a5f4c-43b5-4669-9cf9-d06516e36853",
   "metadata": {},
   "outputs": [],
   "source": [
    "diff = phi_test - phi_pred\n",
    "vmin, vmax = np.percentile(diff, (5, 95))"
   ]
  },
  {
   "cell_type": "code",
   "execution_count": null,
   "id": "b3095d2f-82b7-472d-add1-949ae61407a6",
   "metadata": {},
   "outputs": [],
   "source": [
    "plt.figure()\n",
    "plt.title(\"Predicted Testing Potential\")\n",
    "plt.pcolormesh(R_test, z_test, phi_pred)\n",
    "plt.xlabel(\"$R$\")\n",
    "plt.ylabel(\"$z$\")\n",
    "plt.colorbar(label=\"$\\Phi(R, z)$\");"
   ]
  },
  {
   "cell_type": "code",
   "execution_count": null,
   "id": "2c37fce3-5ba8-49b7-8743-997fba22113b",
   "metadata": {},
   "outputs": [],
   "source": [
    "plt.figure()\n",
    "plt.title(\"Relative Error on unscaled testing data with $M_d=10^{10.5}$\")\n",
    "plt.pcolormesh(R_test, z_test, np.abs(diff/phi_test))\n",
    "plt.xlabel(\"$R$\")\n",
    "plt.ylabel(\"$z$\")\n",
    "plt.colorbar(label=\"$\\dfrac{\\Delta \\Phi(R, z)}{\\Phi(R, z)}$\");"
   ]
  },
  {
   "cell_type": "code",
   "execution_count": null,
   "id": "7457687c-46e2-463c-93df-5bcde7dcf080",
   "metadata": {},
   "outputs": [],
   "source": [
    "relative_error = np.abs(diff/phi_test).flatten()\n",
    "print(\"Mean relative error :\", np.mean(relative_error.numpy()))"
   ]
  },
  {
   "cell_type": "code",
   "execution_count": null,
   "id": "9d92b179-d22d-4032-9174-3ca802bce935",
   "metadata": {},
   "outputs": [],
   "source": [
    "plt.figure()\n",
    "plt.title(\"Absolute Error on unscaled testing data with $M_d=10^{10.5}$\")\n",
    "plt.pcolormesh(R_test, z_test, np.abs(diff))\n",
    "plt.xlabel(\"$R$\")\n",
    "plt.ylabel(\"$z$\")\n",
    "plt.colorbar(label=\"$\\dfrac{\\Delta \\Phi(R, z)}{\\Phi(R, z)}$\");"
   ]
  },
  {
   "cell_type": "code",
   "execution_count": null,
   "id": "380235f2-cce1-4d2b-a328-8f0f16cb8c1b",
   "metadata": {},
   "outputs": [],
   "source": [
    "absolute_error = np.abs(diff).flatten()\n",
    "print(\"Mean absolute error :\", np.mean(absolute_error.numpy()))"
   ]
  },
  {
   "cell_type": "code",
   "execution_count": null,
   "id": "07c13ade-7e9b-44df-8a0b-dbfd37853bd3",
   "metadata": {},
   "outputs": [],
   "source": []
  }
 ],
 "metadata": {
  "kernelspec": {
   "display_name": "Python 3 (ipykernel)",
   "language": "python",
   "name": "python3"
  },
  "language_info": {
   "codemirror_mode": {
    "name": "ipython",
    "version": 3
   },
   "file_extension": ".py",
   "mimetype": "text/x-python",
   "name": "python",
   "nbconvert_exporter": "python",
   "pygments_lexer": "ipython3",
   "version": "3.10.10"
  }
 },
 "nbformat": 4,
 "nbformat_minor": 5
}
