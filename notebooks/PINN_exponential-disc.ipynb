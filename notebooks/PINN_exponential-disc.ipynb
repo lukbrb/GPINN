{
 "cells": [
  {
   "cell_type": "markdown",
   "id": "48b504bd-f911-4005-94a2-a805ca4f8c0a",
   "metadata": {},
   "source": [
    "# Exponential Disc"
   ]
  },
  {
   "cell_type": "code",
   "execution_count": 1,
   "id": "f806f4d6-8ff3-498e-a2e2-45239fee04d7",
   "metadata": {},
   "outputs": [],
   "source": [
    "import sys\n",
    "import numpy as np\n",
    "import torch\n",
    "import matplotlib.pyplot as plt\n",
    "from pyDOE import lhs\n",
    "\n",
    "sys.path.append('../')\n",
    "from gpinn.network import FCN\n",
    "from gpinn.training import TrainingPhase\n",
    "\n",
    "plt.style.use('seaborn-v0_8-darkgrid')"
   ]
  },
  {
   "cell_type": "markdown",
   "id": "5a042e0e-0fcb-4282-b3da-c5702bb88c0a",
   "metadata": {},
   "source": [
    "As a reminder, the equation we want to solve is the following :\n",
    "\n",
    "$$ \\dfrac{1}{R'} \\dfrac{\\partial}{\\partial R'} \\left(R' \\dfrac{\\partial \\Phi'}{\\partial R'}\\right) + \\dfrac{1}{\\eta^{2}}\\dfrac{\\partial^2 \\Phi'}{\\partial z'^2} = e^{-R'} \\cosh^{-2}{z'}$$\n",
    "\n",
    "where we have defined : $\\phi'= \\frac{\\phi}{G M_d/z_d}$, $z' = \\dfrac{z}{z_d}$, $R' = \\dfrac{R}{R_d}$and $\\eta = \\frac{z_d}{R_d} $.\n",
    "\n",
    "Therefore the residual would be written as follows:\n",
    "$$\\dfrac{1}{R'} \\dfrac{\\partial}{\\partial R'} \\left(R' \\dfrac{\\partial \\Phi'}{\\partial R'}\\right) + \\dfrac{1}{\\eta^{2}}\\dfrac{\\partial^2 \\Phi'}{\\partial z'^2} - e^{-R_i'} \\cosh^{-2}{z_i'}$$\n",
    "\n",
    "and the loss function for the collocation points:\n",
    "$$ \\mathcal{L}_{\\mathcal{F}}(\\theta) = MSE_{\\mathcal{F}} = \\dfrac{1}{N_c}\\sum_{i=1}^{N_c}\\left\\|\\dfrac{1}{R'} \\dfrac{\\partial}{\\partial R'} \\left(R' \\dfrac{\\partial \\Phi'}{\\partial R'}\\right) + \\dfrac{1}{\\eta^{2}}\\dfrac{\\partial^2 \\Phi'}{\\partial z'^2} - e^{-R_i'} \\cosh^{-2}{z_i'}\\right\\|^2$$"
   ]
  },
  {
   "cell_type": "markdown",
   "id": "e2393f91-3e8d-4817-bd8e-c441263af649",
   "metadata": {},
   "source": [
    "$z_d$, for now, we will set it in order to have $\\dfrac{z_d}{R_d}=0.2$\n",
    "\n",
    "The domain where to solve the equations can be between $\\dfrac{R}{R_d} = [0;20]$  and $\\dfrac{z}{z_d} = [0;5]$\n",
    "\n",
    "We should also investigate where and when is possible to solve the equation via approximations.\n",
    "\n",
    "To compare our results, we set here :\n",
    "- $R_d = 4$  \n",
    "- $\\dfrac{z_d}{R_d}=0.2$  \n",
    "- $M_d = 10^{10.5}$   "
   ]
  },
  {
   "cell_type": "code",
   "execution_count": 2,
   "id": "6401357d-19a5-4c79-b01d-ae3a625c824c",
   "metadata": {},
   "outputs": [],
   "source": [
    "def pde_residual(nn, x_pde):\n",
    "    eta = 0.2\n",
    "    r, z = x_pde[:, 0].unsqueeze(1), x_pde[:, 1].unsqueeze(1)\n",
    "    x_pde.requires_grad = True \n",
    "    f = nn(x_pde)\n",
    "    # -------- Differentiation w.r.t. R ----------------\n",
    "    f_r = torch.autograd.grad(f, r, torch.ones(x_pde.shape[0], 1),retain_graph=True, create_graph=True)[0]\n",
    "    f_r = f_r[:, 0].unsqueeze(1)\n",
    "    f_r = f_r * r\n",
    "    f_rr = torch.autograd.grad(f_r, r, torch.ones(x_pde.shape[0], 1), retain_graph=True, create_graph=True)[0]\n",
    "    # -------- Differentiation w.r.t. z ----------------\n",
    "    f_z = torch.autograd.grad(f, z, torch.ones(x_pde.shape[0], 1), retain_graph=True, create_graph=True)[0]\n",
    "    f_zz = torch.autograd.grad(f_z, z, torch.ones(x_pde.shape[0], 1), retain_graph=True, create_graph=True)[0]\n",
    "    lhs = 1/r * f_rr + 1/eta**2 * f_zz\n",
    "    rhs = torch.exp(r) * torch.cosh(z)**(-2)\n",
    "    return lhs - rhs"
   ]
  },
  {
   "cell_type": "code",
   "execution_count": 3,
   "id": "191f4e37-5e25-462f-80cb-ee1570657a0c",
   "metadata": {},
   "outputs": [],
   "source": [
    "def mse(residual: torch.Tensor):\n",
    "    return residual.pow(2).mean()\n",
    "\n",
    "def rmse(residual: torch.Tensor):\n",
    "    return torch.sqrt(residual.pow(2).mean())\n",
    "\n",
    "def mae(array: torch.Tensor):\n",
    "    return torch.abs(array).mean()"
   ]
  },
  {
   "cell_type": "markdown",
   "id": "b35b51fa-d898-494a-ba20-a9d47ade9fb7",
   "metadata": {},
   "source": [
    "## Parameters"
   ]
  },
  {
   "cell_type": "code",
   "execution_count": 4,
   "id": "4004e22e-5c45-4cf5-a012-72054a654700",
   "metadata": {},
   "outputs": [],
   "source": [
    "steps = 10_000\n",
    "\n",
    "layers = np.array([2, 32, 16, 1])\n",
    "\n",
    "# To generate new data:\n",
    "z_min = 0\n",
    "z_max = 5\n",
    "r_min = 0\n",
    "r_max = 20\n",
    "total_points_z = 150\n",
    "total_points_r = 150\n",
    "# Nu: Number of training points # Nf: Number of collocation points (Evaluate PDE)\n",
    "Nu = 100\n",
    "Nf = 1024"
   ]
  },
  {
   "cell_type": "markdown",
   "id": "2d38c317-a55c-4d5b-856d-75982048b138",
   "metadata": {},
   "source": [
    "## Data Generation"
   ]
  },
  {
   "cell_type": "code",
   "execution_count": 5,
   "id": "26536983-da55-4822-84ea-f61dee9c34fa",
   "metadata": {},
   "outputs": [],
   "source": [
    "z = torch.linspace(z_min, z_max, total_points_z).view(-1, 1)\n",
    "r = torch.linspace(r_min, r_max, total_points_r).view(-1, 1)\n",
    "# Create the mesh\n",
    "R, Z = torch.meshgrid(r.squeeze(1), z.squeeze(1), indexing='xy')\n",
    "# y_real = dehnen(X, GAMMA)"
   ]
  },
  {
   "cell_type": "markdown",
   "id": "9a7b09fa-f4af-4be4-9a2e-5e923ce35431",
   "metadata": {},
   "source": [
    "## Boundary Conditions"
   ]
  },
  {
   "cell_type": "markdown",
   "id": "27255d5e-98e0-4ca5-af7e-00bf48c9b186",
   "metadata": {},
   "source": [
    "### Left Boundary\n",
    "\n",
    "Corresponds to $R'=0$ and $z' \\in [0, 5]$."
   ]
  },
  {
   "cell_type": "code",
   "execution_count": null,
   "id": "c26d3fbe-656c-42f6-bd8f-2944ab6b1399",
   "metadata": {},
   "outputs": [],
   "source": [
    "left_X = torch.hstack((R[:, 0][:, None], Z[:, 0][:, None]))\n",
    "left_Y = dehnen(left_X[:, 0], GAMMA[:, 0]).unsqueeze(1)"
   ]
  },
  {
   "cell_type": "markdown",
   "id": "903cd34a-b6b2-47af-955e-82cd454e5153",
   "metadata": {},
   "source": [
    "### Bottom Boundary \n",
    "\n",
    "Corresponds to $R'\\in [0, 20]$ and $z' = 0$."
   ]
  },
  {
   "cell_type": "code",
   "execution_count": null,
   "id": "8cc8daaa-42cc-42ed-a6bc-22e72d30eada",
   "metadata": {},
   "outputs": [],
   "source": [
    "bottom_X = torch.hstack((X[0, :][:, None], GAMMA[0, :][:, None]))\n",
    "bottom_Y = dehnen(bottom_X[:, 0], GAMMA[0, :]).unsqueeze(1)"
   ]
  },
  {
   "cell_type": "markdown",
   "id": "406262c6-3e6c-4c32-98c9-5897abb4a3dd",
   "metadata": {},
   "source": [
    "### Top Boundary\n",
    "\n",
    "Corresponds to $R'\\in [0, 20]$ and $z' = 5$."
   ]
  },
  {
   "cell_type": "code",
   "execution_count": null,
   "id": "789ca089-ccac-423f-9005-f0e091c11ce9",
   "metadata": {},
   "outputs": [],
   "source": [
    "# ------------------------- Upper Boundary -------------------------\n",
    "top_X = torch.hstack((X[-1, :][:, None], GAMMA[-1, :][:, None]))\n",
    "top_Y = dehnen(top_X[:, 0], GAMMA[-1, :]).unsqueeze(1)"
   ]
  },
  {
   "cell_type": "markdown",
   "id": "56dfe722-4f7d-4bb3-ad86-3d7e61e12f00",
   "metadata": {},
   "source": [
    "### Right Boundary\n",
    "\n",
    "Corresponds to $R'=20$ and $z' \\in [0, 5]$."
   ]
  },
  {
   "cell_type": "code",
   "execution_count": null,
   "id": "ac70fc90-640a-4b8a-8cae-ce3f49a99a76",
   "metadata": {},
   "outputs": [],
   "source": [
    "# ------------------------- Right Boundary -------------------------\n",
    "right_X = torch.hstack((X[:, -1][:, None], GAMMA[:, -1][:, None]))\n",
    "right_Y = dehnen(right_X[:, 0], GAMMA[:, 0]).unsqueeze(1)"
   ]
  },
  {
   "cell_type": "markdown",
   "id": "2d923396-e384-4ba0-8f11-4d4a6a001a09",
   "metadata": {},
   "source": [
    "### Testing Data"
   ]
  },
  {
   "cell_type": "code",
   "execution_count": null,
   "id": "13c43d9e-9e38-492f-a75a-8b78f2cbc7da",
   "metadata": {},
   "outputs": [],
   "source": [
    "# Transform the mesh into a 2-column vector\n",
    "x_test = torch.hstack((X.transpose(1, 0).flatten()[:, None], GAMMA.transpose(1, 0).flatten()[:, None]))\n",
    "y_test = y_real.transpose(1, 0).flatten()[:, None]  # Colum major Flatten (so we transpose it)\n",
    "# Domain bounds\n",
    "lb = x_test[0]  # first value\n",
    "ub = x_test[-1]  # last value"
   ]
  },
  {
   "cell_type": "markdown",
   "id": "524aeca6-c0ff-4680-9666-12afd3c70842",
   "metadata": {},
   "source": [
    "### Training Data"
   ]
  },
  {
   "cell_type": "code",
   "execution_count": null,
   "id": "dde610b1-fe63-4df3-b3a4-71bad8906942",
   "metadata": {},
   "outputs": [],
   "source": [
    "X_train = torch.vstack([left_X, bottom_X, top_X, right_X])\n",
    "Y_train = torch.vstack([left_Y, bottom_Y, top_Y, right_Y])\n",
    "# Choose(Nu) points of our available training data:\n",
    "idx = np.random.choice(X_train.shape[0], Nu, replace=False)\n",
    "X_train_Nu = X_train  # [idx, :]\n",
    "Y_train_Nu = Y_train  # [idx, :]\n",
    "# Collocation Points (Evaluate our PDe)\n",
    "\n",
    "\n",
    "# Choose(Nf) points(Latin hypercube)\n",
    "X_train_Nf = lb + (ub - lb) * lhs(2, Nf)  # 2 as the inputs are x and gamma\n",
    "X_train_Nf = torch.vstack((X_train_Nf, X_train_Nu))  # Add the training points to the collocation point"
   ]
  },
  {
   "cell_type": "markdown",
   "id": "f845013c-1720-4fae-bf83-e0040a37f163",
   "metadata": {},
   "source": [
    "### Initial Points"
   ]
  },
  {
   "cell_type": "code",
   "execution_count": null,
   "id": "6eb2a3c0-cdf9-4d37-b64b-a7722a57e726",
   "metadata": {},
   "outputs": [],
   "source": [
    "plt.figure()\n",
    "plt.title(\"Configuration of training points\")\n",
    "plt.plot(X_train_Nu[:, 0], X_train_Nu[:, 1], 'xr', label=\"Boundary Points\")\n",
    "plt.plot(X_train_Nf[:, 0], X_train_Nf[:, 1], '.b', label=\"Collocation Points\")\n",
    "plt.xlabel('$s$')\n",
    "plt.ylabel(r'$\\gamma$')\n",
    "plt.legend()\n",
    "plt.show()\n",
    "plt.close()"
   ]
  },
  {
   "cell_type": "markdown",
   "id": "7eca6b07-b3a7-42e7-bd50-9680693c8c9d",
   "metadata": {},
   "source": [
    "### Training"
   ]
  },
  {
   "cell_type": "code",
   "execution_count": null,
   "id": "814723fa-4c0e-48ac-9343-3e1451c701c9",
   "metadata": {},
   "outputs": [],
   "source": [
    "X_test = x_test.float()  # the input dataset (complete)\n",
    "Y_test = y_test.float()  # the real solution\n",
    "\n",
    "# Create Model\n",
    "PINN = FCN(layers) #, act=torch.nn.SiLU())\n",
    "\n",
    "print(PINN)\n",
    "\n",
    "training = TrainingPhase(neural_net=PINN, training_points=(X_train_Nu, Y_train_Nu, X_train_Nf),\n",
    "                         testing_points=(X_test, Y_test), equation=pde_residual, n_epochs=steps,\n",
    "                         optimizer=torch.optim.Adam,\n",
    "                         _loss_function=rmse)\n",
    "\n",
    "net, epochs, losses = training.train_model()"
   ]
  },
  {
   "cell_type": "code",
   "execution_count": null,
   "id": "9f775abe-7cbb-4a0d-913a-c257d6aa6ed7",
   "metadata": {},
   "outputs": [],
   "source": [
    "np.save(\"../arrays/loss_disc.npy\", losses)\n",
    "np.save(\"../arrays/epochs_disc.npy\", epochs)\n",
    "training.save_model(\"../models/exp_disc.pt\")"
   ]
  },
  {
   "cell_type": "markdown",
   "id": "43841469-a039-425a-be41-f30bca6ea59b",
   "metadata": {},
   "source": [
    "### Comparing Results"
   ]
  },
  {
   "cell_type": "code",
   "execution_count": null,
   "id": "a369c04b-eefd-4bb6-914e-6260308082cd",
   "metadata": {},
   "outputs": [],
   "source": [
    "data = np.loadtxt(\"test_phi_grid.dat\")\n",
    "R_test, z_test, phi_test = data.T\n",
    "\n",
    "R_test = R_test.reshape(250, 250)\n",
    "z_test = z_test.reshape(250, 250)\n",
    "phi_test = phi_test.reshape(250, 250)"
   ]
  },
  {
   "cell_type": "code",
   "execution_count": null,
   "id": "e11c4173-e642-438a-82eb-9002be272921",
   "metadata": {},
   "outputs": [],
   "source": [
    "Md = 10**(10.5)"
   ]
  },
  {
   "cell_type": "code",
   "execution_count": null,
   "id": "98589fb4-0ac6-45cf-8d77-95621d9e4462",
   "metadata": {},
   "outputs": [],
   "source": [
    "input_matrix = np.array([R_test.flatten(), z_test.flatten()]).T\n",
    "phi_ = PINN(input_matrix)"
   ]
  },
  {
   "cell_type": "code",
   "execution_count": null,
   "id": "382b45ac-e620-47ec-aaa8-b7dc14b38170",
   "metadata": {},
   "outputs": [],
   "source": [
    "plt.figure()\n",
    "plt.title(\"Relative Error\")\n",
    "plt.pcolormesh(R_test, z_test, np.abs(phi_test - phi_)/phi_)\n",
    "plt.xlabel(\"$R$\")\n",
    "plt.ylabel(\"$z$\")\n",
    "plt.colorbar(label=\"$\\dfrac{\\Delta \\Phi(R, z)}{\\Phi(R, z)}$\");"
   ]
  }
 ],
 "metadata": {
  "kernelspec": {
   "display_name": "Python 3 (ipykernel)",
   "language": "python",
   "name": "python3"
  },
  "language_info": {
   "codemirror_mode": {
    "name": "ipython",
    "version": 3
   },
   "file_extension": ".py",
   "mimetype": "text/x-python",
   "name": "python",
   "nbconvert_exporter": "python",
   "pygments_lexer": "ipython3",
   "version": "3.10.10"
  }
 },
 "nbformat": 4,
 "nbformat_minor": 5
}
