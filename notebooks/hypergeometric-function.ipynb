{
 "cells": [
  {
   "cell_type": "markdown",
   "id": "c73f4476-1fd5-41a3-b630-9f62abcf1843",
   "metadata": {},
   "source": [
    "## Correction for larger values of $k$\n",
    "\n",
    "It appears that we cannot integrate for values larger $k=\\approx 250$ because of the part $${}_2F_1\\left(1, 1 + \\frac{k}{\\beta}; 2 + \\frac{k}{\\beta}; -e^{z\\beta} \\right)$$\n",
    "\n",
    "Indeed, the ${}_2F_1$ function is definded only for $|z| < 1$, but the factor $-e^{z'\\beta}$ does not satisfy this condition. For small values of $k$ the fraction in the function stays balanced and returns small values, but for large $k$ the returned numbers get too small and `nan` values are returned.  We therefore need to find a way to extend the function for $|z| > 1$. Following https://arxiv.org/pdf/2010.08555.pdf we use :\n",
    "\n",
    "$$\\sum_{n=0}^{\\infty} z^n + \\sum_{n=0}^{\\infty} z^n \\sum_{l=1}^{\\infty}(-1)^l \\dfrac{n(1+n)^{l-1}}{y^l}$$\n",
    "\n",
    "valid for $y \\rightarrow +\\infty$."
   ]
  },
  {
   "cell_type": "code",
   "execution_count": null,
   "id": "64fa3d9e-887b-4693-9ae3-9d87de3ad1b8",
   "metadata": {},
   "outputs": [],
   "source": [
    "import numpy as np\n",
    "import mpmath as mp"
   ]
  },
  {
   "cell_type": "code",
   "execution_count": null,
   "id": "6b161f76-2c29-4c43-a23b-c27904726a3d",
   "metadata": {},
   "outputs": [],
   "source": [
    "def naive_func(y, z, max_iter=1000):\n",
    "    res = 0\n",
    "    for n in range(max_iter):\n",
    "        val = 0\n",
    "        for l in range(1, max_iter):\n",
    "            val += z**n * (-1)**l * (n * (1 + n)**(l - 1))/y**l\n",
    "        res += z**n + val\n",
    "    return res"
   ]
  },
  {
   "cell_type": "code",
   "execution_count": null,
   "id": "54efbb47-7b95-4188-8163-7b4f67aa1ac2",
   "metadata": {},
   "outputs": [],
   "source": [
    "k = np.linspace(0, 1000, 100)\n",
    "b = 2.5\n",
    "z = np.linspace(0, 4, 100)"
   ]
  },
  {
   "cell_type": "code",
   "execution_count": null,
   "id": "6b9d96ae-23a5-4ccb-b82f-4b2199d57f60",
   "metadata": {},
   "outputs": [],
   "source": [
    "naive_func(k[-1]/b, -np.exp(z[-1] * b))"
   ]
  },
  {
   "cell_type": "code",
   "execution_count": null,
   "id": "378c0953-ce88-41f5-af76-65fd13b92db8",
   "metadata": {},
   "outputs": [],
   "source": [
    "%%timeit\n",
    "mp_func = np.frompyfunc(mp.hyp2f1, 4, 1)\n",
    "mp_func(1, 1 + k / b, 2 + k / b, -np.exp(z * b))"
   ]
  },
  {
   "cell_type": "code",
   "execution_count": null,
   "id": "ebb1c382-5179-4280-8f76-e2d07adaa0b5",
   "metadata": {},
   "outputs": [],
   "source": [
    "from galpy.potential import MN3ExponentialDiskPotential"
   ]
  },
  {
   "cell_type": "code",
   "execution_count": null,
   "id": "7a2f672a-346b-49c6-90fb-2e04419bf6b4",
   "metadata": {},
   "outputs": [],
   "source": [
    "pot = MN3ExponentialDiskPotential(hr=4, hz=0.8, sech=True)"
   ]
  },
  {
   "cell_type": "code",
   "execution_count": null,
   "id": "018263d5-4eec-430a-b8ae-f09ed20080b6",
   "metadata": {},
   "outputs": [],
   "source": [
    "pot.plot();"
   ]
  },
  {
   "cell_type": "code",
   "execution_count": null,
   "id": "af5e2dcf-d0e9-46ce-8914-82e4ed226d79",
   "metadata": {},
   "outputs": [],
   "source": [
    "print(pot)"
   ]
  },
  {
   "cell_type": "code",
   "execution_count": null,
   "id": "31703cb7-f02b-4c44-b361-58c88c5e61c5",
   "metadata": {},
   "outputs": [],
   "source": []
  }
 ],
 "metadata": {
  "kernelspec": {
   "display_name": "Python 3 (ipykernel)",
   "language": "python",
   "name": "python3"
  },
  "language_info": {
   "codemirror_mode": {
    "name": "ipython",
    "version": 3
   },
   "file_extension": ".py",
   "mimetype": "text/x-python",
   "name": "python",
   "nbconvert_exporter": "python",
   "pygments_lexer": "ipython3",
   "version": "3.10.10"
  }
 },
 "nbformat": 4,
 "nbformat_minor": 5
}
