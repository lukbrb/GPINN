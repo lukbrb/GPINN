{
 "cells": [
  {
   "cell_type": "markdown",
   "metadata": {
    "colab_type": "text",
    "id": "view-in-github"
   },
   "source": [
    "<a href=\"https://colab.research.google.com/github/jdtoscano94/Learning-PINNs-in-Pytorch/blob/main/3_Poisson1D_Dirichlet.ipynb\" target=\"_parent\"><img src=\"https://colab.research.google.com/assets/colab-badge.svg\" alt=\"Open In Colab\"/></a>"
   ]
  },
  {
   "cell_type": "markdown",
   "metadata": {
    "id": "Y61YA90-WIZ1"
   },
   "source": [
    "# Libraries"
   ]
  },
  {
   "cell_type": "code",
   "execution_count": 2,
   "metadata": {
    "colab": {
     "base_uri": "https://localhost:8080/"
    },
    "id": "WZrPCr9GWEAJ",
    "outputId": "7ac89e94-8e0e-4512-e34a-68d9099da382"
   },
   "outputs": [
    {
     "name": "stdout",
     "output_type": "stream",
     "text": [
      "Collecting pyDOE\n",
      "  Downloading pyDOE-0.3.8.zip (22 kB)\n",
      "  Preparing metadata (setup.py) ... \u001b[?25ldone\n",
      "\u001b[?25hRequirement already satisfied: numpy in /Users/lucas/miniconda3/lib/python3.10/site-packages (from pyDOE) (1.24.2)\n",
      "Requirement already satisfied: scipy in /Users/lucas/miniconda3/lib/python3.10/site-packages (from pyDOE) (1.10.1)\n",
      "Building wheels for collected packages: pyDOE\n",
      "  Building wheel for pyDOE (setup.py) ... \u001b[?25ldone\n",
      "\u001b[?25h  Created wheel for pyDOE: filename=pyDOE-0.3.8-py3-none-any.whl size=18167 sha256=3f0d22bedfc99308b3925a4eb2d3dcc6e623eddb58f6f34cf13c399f4f89bdce\n",
      "  Stored in directory: /Users/lucas/Library/Caches/pip/wheels/3f/6c/ae/a1b29aa44759bed46aed9eba5042b7e4038c35a4776f0d24d1\n",
      "Successfully built pyDOE\n",
      "Installing collected packages: pyDOE\n",
      "Successfully installed pyDOE-0.3.8\n"
     ]
    }
   ],
   "source": [
    " ! pip install pyDOE"
   ]
  },
  {
   "cell_type": "code",
   "execution_count": 4,
   "metadata": {
    "colab": {
     "base_uri": "https://localhost:8080/"
    },
    "id": "OdYMzuSDi7Js",
    "outputId": "b0790762-b875-4f2c-ca4c-846a80e921ad"
   },
   "outputs": [
    {
     "name": "stdout",
     "output_type": "stream",
     "text": [
      "cpu\n"
     ]
    }
   ],
   "source": [
    "import torch\n",
    "import torch.autograd as autograd         # computation graph\n",
    "from torch import Tensor                  # tensor node in the computation graph\n",
    "import torch.nn as nn                     # neural networks\n",
    "import torch.optim as optim               \n",
    "\n",
    "import matplotlib.pyplot as plt\n",
    "import matplotlib.gridspec as gridspec\n",
    "from mpl_toolkits.axes_grid1 import make_axes_locatable\n",
    "from mpl_toolkits.mplot3d import Axes3D\n",
    "import matplotlib.ticker\n",
    "# from sklearn.model_selection import train_test_split\n",
    "\n",
    "import numpy as np\n",
    "import time\n",
    "from pyDOE import lhs         #Latin Hypercube Sampling\n",
    "import scipy.io\n",
    "\n",
    "#Set default dtype to float32\n",
    "torch.set_default_dtype(torch.float)\n",
    "\n",
    "#PyTorch random number generator\n",
    "torch.manual_seed(1234)\n",
    "\n",
    "# Random number generators in other libraries\n",
    "np.random.seed(1234)\n",
    "\n",
    "# Device configuration\n",
    "device = torch.device('cuda' if torch.cuda.is_available() else 'cpu')\n",
    "\n",
    "print(device)\n",
    "\n",
    "if device == 'cuda': \n",
    "    print(torch.cuda.get_device_name()) \n"
   ]
  },
  {
   "cell_type": "markdown",
   "metadata": {
    "id": "UoqCzgLSp61M"
   },
   "source": [
    "# Tunning Parameters"
   ]
  },
  {
   "cell_type": "code",
   "execution_count": 5,
   "metadata": {
    "id": "L2r-CxAnp5Ub"
   },
   "outputs": [],
   "source": [
    "steps=5000\n",
    "lr=1e-3\n",
    "layers = np.array([1,50,50,20,50,50,1]) #5 hidden layers\n",
    "# To generate new data:\n",
    "min=-1\n",
    "max=1\n",
    "total_points=500\n",
    "#Nu: Number of training points (2 as we onlt have 2 boundaries), # Nf: Number of collocation points (Evaluate PDE)\n",
    "Nu=2\n",
    "Nf=250"
   ]
  },
  {
   "cell_type": "markdown",
   "metadata": {
    "id": "koofMp-5Y-UA"
   },
   "source": [
    "# Problem Setup\n",
    "\n",
    "**Laplace Operator($\\Delta$)**\n",
    "\n",
    "$$\\Delta u=u_{xx}+u_{yy} = \\frac{\\partial^2 u}{\\partial x^2}+\\frac{\\partial^2 u}{\\partial y^2}$$\n",
    "\n",
    "**Harmonic Functions**\n",
    "\n",
    "$$\\Delta u =0$$\n",
    "\n",
    "They are smooth\n",
    "\n",
    "You need boundary conditions: you need the rate or the value.\n",
    "\n",
    "You have to solve all points at the same time.\n",
    "\n",
    "**Poisson equation**\n",
    "\n",
    "$$\\Delta u =f(x)$$\n",
    "\n",
    "Example: Candle in a room\n",
    "\n",
    "### Problem\n",
    "\n",
    "$$-\\Delta u=\\pi^2sin(\\pi x)$$\n",
    "\n",
    "### Boundary Conditions:\n",
    "\n",
    "$$u(-1)=0, u(1) =0$$\n",
    "\n",
    "### Exact solution:\n",
    "\n",
    "$$u(x)=sin(\\pi x)$$"
   ]
  },
  {
   "cell_type": "markdown",
   "metadata": {
    "id": "XYwWBwmbp3S6"
   },
   "source": [
    "### PDE:\n",
    "$$-\\Delta u=\\pi^2sin(\\pi x)$$\n",
    "$$u_{xx}=-\\pi^2sin(\\pi x)$$\n",
    "$$\\frac{\\partial^2u}{\\partial x^2}=-\\pi^2sin(\\pi x)$$\n",
    "\n",
    "So the residual will be:\n",
    "\n",
    "$$0=\\frac{\\partial^2u}{\\partial x^2}+\\pi^2sin(\\pi x)$$\n",
    "\n",
    "Note: Remeber that our neural network $NN(x)\\approx u(x)$ so:\n",
    "\n",
    "$$\\frac{\\partial^2NN}{\\partial x^2}\\approx\\frac{\\partial^2u}{\\partial x^2}$$\n",
    "\n",
    "$$f=\\frac{\\partial^2NN}{\\partial x^2}+\\pi^2sin(\\pi x)\\rightarrow 0$$\n",
    "\n",
    "\n",
    "**Initial Conditions (Dirichlet BC)**\n",
    "$$u(-1)=0$$\n",
    "\n",
    "$$u(1)=0$$\n",
    "\n",
    "Set a function to describe our boundary conditions:\n",
    "\n",
    "$$f_{BC}(x)=1-|x|$$\n",
    "\n",
    "Note: $f_{BC}$ is not the answer to our PDE, but it helps us describe the boundary condition (Generate data)."
   ]
  },
  {
   "cell_type": "markdown",
   "metadata": {
    "id": "K40IpAXPjS4I"
   },
   "source": [
    "## Functions"
   ]
  },
  {
   "cell_type": "code",
   "execution_count": 6,
   "metadata": {
    "id": "hZFwvWyGs2RE"
   },
   "outputs": [],
   "source": [
    "def f_BC(x):\n",
    "    return 1-torch.abs(x)\n",
    "def f_real(x):\n",
    "    return torch.sin(np.pi*x)\n",
    "def PDE(x):\n",
    "    return -1*(np.pi**2)*torch.sin(np.pi*x)\n"
   ]
  },
  {
   "cell_type": "markdown",
   "metadata": {
    "id": "ZHYqtyYJs3Jv"
   },
   "source": [
    "### Neural Network"
   ]
  },
  {
   "cell_type": "code",
   "execution_count": 7,
   "metadata": {
    "id": "7EZjlbVMi8w0"
   },
   "outputs": [],
   "source": [
    "class FCN(nn.Module):\n",
    "    ##Neural Network\n",
    "    def __init__(self,layers):\n",
    "        super().__init__() #call __init__ from parent class \n",
    "        'activation function'\n",
    "        self.activation = nn.Tanh()\n",
    "        'loss function'\n",
    "        self.loss_function = nn.MSELoss(reduction ='mean')\n",
    "        'Initialise neural network as a list using nn.Modulelist'  \n",
    "        self.linears = nn.ModuleList([nn.Linear(layers[i], layers[i+1]) for i in range(len(layers)-1)]) \n",
    "        self.iter = 0\n",
    "        'Xavier Normal Initialization'\n",
    "        # std = gain * sqrt(2/(input_dim+output_dim))\n",
    "        for i in range(len(layers)-1):\n",
    "            \n",
    "            # weights from a normal distribution with \n",
    "            # Recommended gain value for tanh = 5/3?\n",
    "            nn.init.xavier_normal_(self.linears[i].weight.data, gain=1.0)\n",
    "            \n",
    "            # set biases to zero\n",
    "            nn.init.zeros_(self.linears[i].bias.data)   \n",
    "    'foward pass'\n",
    "    def forward(self,x):\n",
    "        if torch.is_tensor(x) != True:         \n",
    "            x = torch.from_numpy(x)                \n",
    "        a = x.float()\n",
    "        for i in range(len(layers)-2):  \n",
    "            z = self.linears[i](a)              \n",
    "            a = self.activation(z)    \n",
    "        a = self.linears[-1](a)\n",
    "        return a\n",
    "    'Loss Functions'\n",
    "    #Loss BC\n",
    "    def lossBC(self,x_BC,y_BC):\n",
    "        loss_BC=self.loss_function(self.forward(x_BC),y_BC)\n",
    "        return loss_BC\n",
    "    #Loss PDE\n",
    "    def lossPDE(self,x_PDE):\n",
    "        g=x_PDE.clone()\n",
    "        g.requires_grad=True #Enable differentiation\n",
    "        f=self.forward(g)\n",
    "        f_x=autograd.grad(f,g,torch.ones([x_PDE.shape[0],1]).to(device),retain_graph=True, create_graph=True)[0] #first derivative\n",
    "        f_xx=autograd.grad(f_x,g,torch.ones([x_PDE.shape[0],1]).to(device), create_graph=True)[0]#second derivative\n",
    "        return self.loss_function(f_xx,PDE(g))\n",
    "      \n",
    "    def loss(self,x_BC,y_BC,x_PDE):\n",
    "        loss_bc=self.lossBC(x_BC,y_BC)\n",
    "        loss_pde=self.lossPDE(x_PDE)\n",
    "        return loss_bc+loss_pde"
   ]
  },
  {
   "cell_type": "markdown",
   "metadata": {
    "id": "pOe9yRvxjakj"
   },
   "source": [
    "# Generate data"
   ]
  },
  {
   "cell_type": "code",
   "execution_count": 8,
   "metadata": {
    "colab": {
     "base_uri": "https://localhost:8080/"
    },
    "id": "Z1V03CRRjRML",
    "outputId": "0812fa14-189d-4a77-bc88-ddc4deba672c"
   },
   "outputs": [
    {
     "name": "stdout",
     "output_type": "stream",
     "text": [
      "torch.Size([500, 1]) torch.Size([500, 1])\n"
     ]
    }
   ],
   "source": [
    "# get the analytical solution over the full domain\n",
    "x = torch.linspace(min,max,total_points).view(-1,1) #prepare to NN\n",
    "y = f_real(x)\n",
    "print(x.shape, y.shape)"
   ]
  },
  {
   "cell_type": "code",
   "execution_count": 10,
   "metadata": {
    "colab": {
     "base_uri": "https://localhost:8080/",
     "height": 296
    },
    "id": "OE4RUZ27p0fT",
    "outputId": "578924aa-4173-4da8-e508-3e61d081d5a2"
   },
   "outputs": [
    {
     "data": {
      "image/png": "[encoded data removed]",
      "text/plain": [
       "<Figure size 640x480 with 1 Axes>"
      ]
     },
     "metadata": {},
     "output_type": "display_data"
    }
   ],
   "source": [
    "fig, ax1 = plt.subplots()\n",
    "ax1.plot(x.detach().numpy(),y.detach().numpy(),color='blue',label='Real Function')\n",
    "#ax1.plot(x_train.detach().numpy(),yh.detach().numpy(),color='red',label='Pred_Train')\n",
    "ax1.set_xlabel('x',color='black')\n",
    "ax1.set_ylabel('f(x)',color='black')\n",
    "ax1.tick_params(axis='y', color='black')\n",
    "ax1.legend(loc = 'upper left');"
   ]
  },
  {
   "cell_type": "code",
   "execution_count": 11,
   "metadata": {
    "id": "_JMjSMOKdlWt"
   },
   "outputs": [],
   "source": [
    "#def get_training_data(x):\n",
    "#Nu: Number of training point, # Nf: Number of colloction points\n",
    "# Set Boundary conditions x=min & x= max\n",
    "BC_1=x[0,:]\n",
    "BC_2=x[-1,:]\n",
    "# Total Tpaining points BC1+BC2\n",
    "all_train=torch.vstack([BC_1,BC_2])\n",
    "#Select Nu points\n",
    "idx = np.random.choice(all_train.shape[0], Nu, replace=False) \n",
    "x_BC=all_train[idx]\n",
    "#Select Nf points\n",
    "# Latin Hypercube sampling for collocation points \n",
    "x_PDE = BC_1 + (BC_2-BC_1)*lhs(1,Nf)\n",
    "x_PDE = torch.vstack((x_PDE,x_BC)) "
   ]
  },
  {
   "cell_type": "code",
   "execution_count": 12,
   "metadata": {
    "id": "SxRNKJ4Ejif8"
   },
   "outputs": [],
   "source": [
    "y_BC=f_BC(x_BC).to(device)"
   ]
  },
  {
   "cell_type": "markdown",
   "metadata": {
    "id": "I82eH55ElVSq"
   },
   "source": [
    "# Train Neural Network"
   ]
  },
  {
   "cell_type": "code",
   "execution_count": 13,
   "metadata": {
    "colab": {
     "base_uri": "https://localhost:8080/"
    },
    "id": "8KZvgKcalOVV",
    "outputId": "fd82117b-8c0c-443b-c567-7dedd5dc2170"
   },
   "outputs": [
    {
     "name": "stdout",
     "output_type": "stream",
     "text": [
      "FCN(\n",
      "  (activation): Tanh()\n",
      "  (loss_function): MSELoss()\n",
      "  (linears): ModuleList(\n",
      "    (0): Linear(in_features=1, out_features=50, bias=True)\n",
      "    (1): Linear(in_features=50, out_features=50, bias=True)\n",
      "    (2): Linear(in_features=50, out_features=20, bias=True)\n",
      "    (3): Linear(in_features=20, out_features=50, bias=True)\n",
      "    (4): Linear(in_features=50, out_features=50, bias=True)\n",
      "    (5): Linear(in_features=50, out_features=1, bias=True)\n",
      "  )\n",
      ")\n"
     ]
    }
   ],
   "source": [
    "#Store tensors to GPU\n",
    "torch.manual_seed(123)\n",
    "x_PDE=x_PDE.float().to(device)\n",
    "x_BC=x_BC.to(device)\n",
    "#Create Model\n",
    "model = FCN(layers)\n",
    "print(model)\n",
    "model.to(device)\n",
    "params = list(model.parameters())\n",
    "optimizer = torch.optim.Adam(model.parameters(),lr=lr,amsgrad=False)\n",
    "start_time = time.time()"
   ]
  },
  {
   "cell_type": "code",
   "execution_count": 14,
   "metadata": {
    "colab": {
     "base_uri": "https://localhost:8080/"
    },
    "id": "FGZzo1X40SJ_",
    "outputId": "a80c6cc8-1dab-48ce-fa7d-1ff214a90781"
   },
   "outputs": [
    {
     "data": {
      "text/plain": [
       "tensor(0.0160, grad_fn=<MseLossBackward0>)"
      ]
     },
     "execution_count": 14,
     "metadata": {},
     "output_type": "execute_result"
    }
   ],
   "source": [
    "model.lossBC(x_BC,y_BC)"
   ]
  },
  {
   "cell_type": "code",
   "execution_count": 15,
   "metadata": {
    "colab": {
     "base_uri": "https://localhost:8080/"
    },
    "id": "KM3GHnh9ljCh",
    "outputId": "0b35909d-eda4-4c37-8a44-83f26782ce58"
   },
   "outputs": [
    {
     "name": "stdout",
     "output_type": "stream",
     "text": [
      "tensor(47.8740, grad_fn=<AddBackward0>)\n",
      "tensor(0.0155, grad_fn=<AddBackward0>)\n",
      "tensor(0.0031, grad_fn=<AddBackward0>)\n",
      "tensor(0.0015, grad_fn=<AddBackward0>)\n",
      "tensor(0.0007, grad_fn=<AddBackward0>)\n",
      "tensor(0.0004, grad_fn=<AddBackward0>)\n",
      "tensor(0.0002, grad_fn=<AddBackward0>)\n",
      "tensor(0.0019, grad_fn=<AddBackward0>)\n",
      "tensor(0.0003, grad_fn=<AddBackward0>)\n",
      "tensor(0.0001, grad_fn=<AddBackward0>)\n"
     ]
    }
   ],
   "source": [
    "for i in range(steps):\n",
    "    yh = model(x_PDE)\n",
    "    loss = model.loss(x_BC,y_BC,x_PDE)# use mean squared error\n",
    "    optimizer.zero_grad()\n",
    "    loss.backward()\n",
    "    optimizer.step()\n",
    "    if i%(steps/10)==0:\n",
    "        print(loss)"
   ]
  },
  {
   "cell_type": "markdown",
   "metadata": {
    "id": "kpRh89zM8Te8"
   },
   "source": [
    "### Plots"
   ]
  },
  {
   "cell_type": "code",
   "execution_count": 16,
   "metadata": {
    "colab": {
     "base_uri": "https://localhost:8080/"
    },
    "id": "6kJ3gQ6WYhp9",
    "outputId": "9f07415b-9aaf-4c63-d591-ce94b6e1daa4"
   },
   "outputs": [
    {
     "name": "stdout",
     "output_type": "stream",
     "text": [
      "tensor(6.2449e-07, grad_fn=<MseLossBackward0>)\n"
     ]
    }
   ],
   "source": [
    "# Function\n",
    "yh=model(x.to(device))\n",
    "y=f_real(x)\n",
    "#Error\n",
    "print(model.lossBC(x.to(device),f_real(x).to(device)))"
   ]
  },
  {
   "cell_type": "code",
   "execution_count": 17,
   "metadata": {
    "id": "jEUUqEjr8Sim"
   },
   "outputs": [],
   "source": [
    "# Derivative\n",
    "g=x.to(device)\n",
    "g=g.clone()\n",
    "g.requires_grad=True #Enable differentiation\n",
    "f=model(g)\n",
    "f_x=autograd.grad(f,g,torch.ones([g.shape[0],1]).to(device),retain_graph=True, create_graph=True)[0]"
   ]
  },
  {
   "cell_type": "code",
   "execution_count": 18,
   "metadata": {
    "id": "udWgFd6mqY7B"
   },
   "outputs": [],
   "source": [
    "# Detach from GPU\n",
    "y_plot=y.detach().numpy()\n",
    "yh_plot=yh.detach().cpu().numpy()\n",
    "f_x_plot=f_x.detach().cpu().numpy()"
   ]
  },
  {
   "cell_type": "code",
   "execution_count": 21,
   "metadata": {
    "colab": {
     "base_uri": "https://localhost:8080/",
     "height": 296
    },
    "id": "M9YZDGcpodnQ",
    "outputId": "61f96fb1-4c77-42dd-f094-dbeb55a9c530"
   },
   "outputs": [
    {
     "data": {
      "image/png": "[encoded data removed]",
      "text/plain": [
       "<Figure size 640x480 with 1 Axes>"
      ]
     },
     "metadata": {},
     "output_type": "display_data"
    }
   ],
   "source": [
    "# Plot\n",
    "fig, ax1 = plt.subplots()\n",
    "ax1.plot(x,y_plot,color='blue',label='Real u(x)')\n",
    "ax1.plot(x,yh_plot,'--r',label='Predicted u(x)')\n",
    "ax1.plot(x,f_x_plot,color='green',label='Computed u\\'(x)')\n",
    "ax1.set_xlabel('x',color='black')\n",
    "ax1.set_ylabel('f(x)',color='black')\n",
    "ax1.tick_params(axis='y', color='black')\n",
    "ax1.legend(loc = 'upper left');"
   ]
  },
  {
   "cell_type": "code",
   "execution_count": null,
   "metadata": {
    "id": "gTIEZ311xCVK"
   },
   "outputs": [],
   "source": []
  }
 ],
 "metadata": {
  "accelerator": "GPU",
  "colab": {
   "collapsed_sections": [
    "Y61YA90-WIZ1",
    "ZHYqtyYJs3Jv"
   ],
   "include_colab_link": true,
   "machine_shape": "hm",
   "name": "3.Poisson1D_Dirichlet.ipynb",
   "provenance": []
  },
  "kernelspec": {
   "display_name": "Python 3 (ipykernel)",
   "language": "python",
   "name": "python3"
  },
  "language_info": {
   "codemirror_mode": {
    "name": "ipython",
    "version": 3
   },
   "file_extension": ".py",
   "mimetype": "text/x-python",
   "name": "python",
   "nbconvert_exporter": "python",
   "pygments_lexer": "ipython3",
   "version": "3.10.10"
  }
 },
 "nbformat": 4,
 "nbformat_minor": 4
}
